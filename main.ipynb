{
 "cells": [
  {
   "cell_type": "markdown",
   "metadata": {},
   "source": [
    "## 1. Bibliotecas"
   ]
  },
  {
   "cell_type": "code",
   "execution_count": 1,
   "metadata": {},
   "outputs": [],
   "source": [
    "import pandas as pd\n",
    "import numpy as np\n",
    "import matplotlib.pyplot as plt\n",
    "import seaborn as sns\n",
    "import matplotlib.pyplot as plt"
   ]
  },
  {
   "cell_type": "markdown",
   "metadata": {},
   "source": [
    "## 2. Funções"
   ]
  },
  {
   "cell_type": "code",
   "execution_count": 51,
   "metadata": {},
   "outputs": [],
   "source": [
    "def importar_database(content):\n",
    "  dados = pd.read_csv(content, encoding='latin1', sep=';', engine='python')\n",
    "  return dados\n",
    "\n",
    "# Modificando o dataset para que tenha apenas os acidentes com vítimas fatais\n",
    "def filtro_dados_fatais(dados):\n",
    "  dados_fatais = dados[dados['mortos'] > 0]\n",
    "  return dados_fatais\n",
    "\n",
    "# Eliminando as colunas que estão nulas e/ou não serão utilizadas no decorrer do projeto\n",
    "def remover_colunas_nao_usadas(dados):\n",
    "  dados_filtrados = dados.drop(['uso_solo', 'latitude', 'longitude', 'regional', 'delegacia', 'uop'], axis=1)\n",
    "  return dados_filtrados\n",
    "\n",
    "# Verifica os valores únicos de cada coluna do dataset\n",
    "def verificar_valores_unicos(dados):\n",
    "  for coluna in dados.columns:\n",
    "    valores_unicos = dados[coluna].unique()\n",
    "    print(f'Coluna: {coluna}')\n",
    "    print(f'Valores únicos ({len(valores_unicos)}): {valores_unicos}\\n')\n",
    "\n",
    "# Categoriza as causas dos acidentes em categorias\n",
    "def categorizar_acidente(causa):\n",
    "  if causa in falha_condutor:\n",
    "      return 'Falha do Condutor'\n",
    "  elif causa in falha_pedestre:\n",
    "      return 'Falha do Pedestre'\n",
    "  elif causa in fatores_externos:\n",
    "      return 'Fatores Externos'\n",
    "  elif causa in falha_mecanica:\n",
    "      return 'Falha Mecânica'\n",
    "  elif causa in problemas_via:\n",
    "      return 'Problemas nas Vias'\n",
    "  else:\n",
    "      return 'Outros'\n",
    "\n",
    "def categorizar_acidentes(dados):\n",
    "  if 'causa_acidente' not in dados.columns:\n",
    "      raise ValueError(\"A coluna 'causa_acidente' não está presente no DataFrame.\")\n",
    "\n",
    "  dados['categoria'] = dados['causa_acidente'].apply(categorizar_acidente)\n",
    "  return dados\n",
    "\n",
    "def porcentagem_acidentes_amplos(dados):\n",
    "  contagem = dados['causa_acidente'].value_counts()\n",
    "  porcentagem = (contagem / len(dados)) * 100\n",
    "  return porcentagem\n",
    "\n",
    "def porcentagem_categoria(dados):\n",
    "  contagem = dados['categoria'].value_counts()\n",
    "  porcentagem = (contagem / len(dados)) * 100\n",
    "  return porcentagem\n",
    "\n",
    "def filtro_semana(dados):\n",
    "  semana = dados[dados['dia_semana'].isin(['segunda-feira', 'terça-feira', 'quarta-feira', 'quinta-feira'])]\n",
    "  return semana\n",
    "\n",
    "def filtro_final_semana(dados):\n",
    "  finais_de_semana = dados[dados['dia_semana'].isin(['sexta-feira', 'sábado', 'domingo'])]\n",
    "  return finais_de_semana\n",
    "\n",
    "def filtrar_horario(dados):\n",
    "  dados.loc[:, 'horario'] = dados['horario'].str[:2]\n",
    "  return dados\n",
    "\n",
    "def horarios_acidentes_grafico(dados):\n",
    "  dados['horario'] = dados['horario'].astype(str).str[:2]\n",
    "  dados['horario'] = pd.to_numeric(dados['horario'], errors='coerce')\n",
    "  return dados\n",
    "\n",
    "def horarios_acidentes(dados):\n",
    "  dados.loc[:, 'horario'] = dados['horario'].str[:2]\n",
    "  contagem_hora_geral = dados['horario'].value_counts()\n",
    "  dados_1 = contagem_hora_geral.sort_values(ascending=False)\n",
    "  return dados_1\n",
    "\n",
    "def condicao_metereologica(dados):\n",
    "  meteorologia = dados[\"condicao_metereologica\"].value_counts()\n",
    "  return meteorologia.sort_values(ascending=False)\n",
    "\n",
    "\n",
    "def plotar_graficos_comparacao_categorias(dados1, dados2):\n",
    "  dados1 = dados1.sort_values(ascending=True)\n",
    "  dados2 = dados2.sort_values(ascending=True)\n",
    "\n",
    "# Criando subplots com 2 gráficos lado a lado\n",
    "  fig, axes = plt.subplots(1, 2, figsize=(16, 8))\n",
    "\n",
    "  axes[0].barh(dados1.index, dados1.values, color='#800000', zorder=2)  # Bordô com barras sobre a grade\n",
    "  axes[0].set_title('Top 10 Causas de Acidentes - 2021', fontsize=16)\n",
    "  axes[0].set_xlabel('Porcentagem (%)', fontsize=14)\n",
    "  axes[0].set_ylabel('Causas', fontsize=14)\n",
    "  axes[0].grid(True, color='lightgray', linestyle='--', linewidth=0.7, zorder=1)  # Grade cinza claro com traços\n",
    "\n",
    "  axes[1].barh(dados2.index, dados2.values, color='#800000', zorder=2)\n",
    "  axes[1].set_title('Top 10 Causas de Acidentes - 2022', fontsize=16)\n",
    "  axes[1].set_xlabel('Porcentagem (%)', fontsize=14)\n",
    "  axes[1].set_ylabel('Causas', fontsize=14)\n",
    "  axes[1].grid(True, color='lightgray', linestyle='--', linewidth=0.7, zorder=1)\n",
    "\n",
    "  plt.tight_layout()\n",
    "  plt.show()\n",
    "\n",
    "\n",
    "\n",
    "def plotar_graficos_comparacao_causas(dados1, dados2):\n",
    "\n",
    "  top10_dados1 = dados1.nlargest(10).sort_values(ascending=True)\n",
    "  top10_dados2 = dados2.nlargest(10).sort_values(ascending=True)\n",
    "\n",
    "# Criar subplots com 2 gráficos, um abaixo do outro\n",
    "  fig, axes = plt.subplots(2, 1, figsize=(12, 12))\n",
    "\n",
    "  axes[0].barh(top10_dados1.index, top10_dados1.values, color='#800000')\n",
    "  axes[0].set_title('Top 10 Causas de Acidentes - 2021', fontsize=16)\n",
    "  axes[0].set_xlabel('Porcentagem (%)', fontsize=14)\n",
    "  axes[0].set_ylabel('Causas', fontsize=14)\n",
    "  axes[0].grid(True, color='lightgray', linestyle='--', linewidth=0.7, axis='x')\n",
    "  axes[0].set_axisbelow(True)  # Garantir que a grid fique atrás das barras\n",
    "\n",
    "  axes[1].barh(top10_dados2.index, top10_dados2.values, color='#800000')\n",
    "  axes[1].set_title('Top 10 Causas de Acidentes - 2022', fontsize=16)\n",
    "  axes[1].set_xlabel('Porcentagem (%)', fontsize=14)\n",
    "  axes[1].set_ylabel('Causas', fontsize=14)\n",
    "  axes[1].grid(True, color='lightgray', linestyle='--', linewidth=0.7, axis='x')\n",
    "  axes[1].set_axisbelow(True)\n",
    "\n",
    "  plt.tight_layout()\n",
    "  plt.show()\n",
    "\n",
    "\n",
    "def plotar_graficos_comparacao_horarios(dados1, dados2):\n",
    "# Filtrar os top 10 horários para ambos os datasets\n",
    "  top10_dados1 = dados1.nlargest(10).sort_values(ascending=True)\n",
    "  top10_dados2 = dados2.nlargest(10).sort_values(ascending=True)\n",
    "\n",
    "# Criar subplots com 2 gráficos, um abaixo do outro\n",
    "  fig, axes = plt.subplots(2, 1, figsize=(12, 12))\n",
    "\n",
    "  axes[0].barh(top10_dados1.index, top10_dados1.values, color='#800000')\n",
    "  axes[0].set_title('Top 10 Horários - 2021', fontsize=16)\n",
    "  axes[0].set_xlabel('Qtde', fontsize=14)\n",
    "  axes[0].set_ylabel('Horários', fontsize=14)\n",
    "  axes[0].grid(True, color='lightgray', linestyle='--', linewidth=0.7, axis='x')  # Linhas cinzas no fundo\n",
    "  axes[0].set_axisbelow(True)  # Garantir que as linhas cinzas fiquem atrás das barras\n",
    "\n",
    "  axes[1].barh(top10_dados2.index, top10_dados2.values, color='#800000')\n",
    "  axes[1].set_title('Top 10 Horários - 2022', fontsize=16)\n",
    "  axes[1].set_xlabel('Qtde', fontsize=14)\n",
    "  axes[1].set_ylabel('Horários', fontsize=14)\n",
    "  axes[1].grid(True, color='lightgray', linestyle='--', linewidth=0.7, axis='x')\n",
    "  axes[1].set_axisbelow(True)\n",
    "\n",
    "  plt.tight_layout()\n",
    "  plt.show()"
   ]
  },
  {
   "cell_type": "markdown",
   "metadata": {},
   "source": [
    "## 3. Importação dos Dados\n"
   ]
  },
  {
   "cell_type": "code",
   "execution_count": 3,
   "metadata": {},
   "outputs": [],
   "source": [
    "dados_2021 = importar_database('datatran2021.csv')\n",
    "dados_2022 = importar_database('datatran2022.csv')"
   ]
  },
  {
   "cell_type": "markdown",
   "metadata": {},
   "source": [
    "## 4. Análise Exploratória de 2021 e 2022\n"
   ]
  },
  {
   "cell_type": "markdown",
   "metadata": {},
   "source": [
    "### Informações dos datasets"
   ]
  },
  {
   "cell_type": "code",
   "execution_count": 4,
   "metadata": {},
   "outputs": [
    {
     "name": "stdout",
     "output_type": "stream",
     "text": [
      "<class 'pandas.core.frame.DataFrame'>\n",
      "RangeIndex: 64568 entries, 0 to 64567\n",
      "Data columns (total 30 columns):\n",
      " #   Column                  Non-Null Count  Dtype  \n",
      "---  ------                  --------------  -----  \n",
      " 0   id                      64568 non-null  float64\n",
      " 1   data_inversa            64568 non-null  object \n",
      " 2   dia_semana              64568 non-null  object \n",
      " 3   horario                 64568 non-null  object \n",
      " 4   uf                      64568 non-null  object \n",
      " 5   br                      64568 non-null  int64  \n",
      " 6   km                      64568 non-null  object \n",
      " 7   municipio               64568 non-null  object \n",
      " 8   causa_acidente          64568 non-null  object \n",
      " 9   tipo_acidente           64568 non-null  object \n",
      " 10  classificacao_acidente  64567 non-null  object \n",
      " 11  fase_dia                64568 non-null  object \n",
      " 12  sentido_via             64568 non-null  object \n",
      " 13  condicao_metereologica  64568 non-null  object \n",
      " 14  tipo_pista              64568 non-null  object \n",
      " 15  tracado_via             64568 non-null  object \n",
      " 16  uso_solo                64568 non-null  object \n",
      " 17  pessoas                 64568 non-null  int64  \n",
      " 18  mortos                  64568 non-null  int64  \n",
      " 19  feridos_leves           64568 non-null  int64  \n",
      " 20  feridos_graves          64568 non-null  int64  \n",
      " 21  ilesos                  64568 non-null  int64  \n",
      " 22  ignorados               64568 non-null  int64  \n",
      " 23  feridos                 64568 non-null  int64  \n",
      " 24  veiculos                64568 non-null  int64  \n",
      " 25  latitude                64568 non-null  object \n",
      " 26  longitude               64568 non-null  object \n",
      " 27  regional                0 non-null      float64\n",
      " 28  delegacia               0 non-null      float64\n",
      " 29  uop                     0 non-null      float64\n",
      "dtypes: float64(4), int64(9), object(17)\n",
      "memory usage: 14.8+ MB\n"
     ]
    }
   ],
   "source": [
    "dados_2021.info()"
   ]
  },
  {
   "cell_type": "code",
   "execution_count": 5,
   "metadata": {},
   "outputs": [
    {
     "name": "stdout",
     "output_type": "stream",
     "text": [
      "<class 'pandas.core.frame.DataFrame'>\n",
      "RangeIndex: 64606 entries, 0 to 64605\n",
      "Data columns (total 30 columns):\n",
      " #   Column                  Non-Null Count  Dtype \n",
      "---  ------                  --------------  ----- \n",
      " 0   id                      64606 non-null  int64 \n",
      " 1   data_inversa            64606 non-null  object\n",
      " 2   dia_semana              64606 non-null  object\n",
      " 3   horario                 64606 non-null  object\n",
      " 4   uf                      64606 non-null  object\n",
      " 5   br                      64606 non-null  int64 \n",
      " 6   km                      64606 non-null  object\n",
      " 7   municipio               64606 non-null  object\n",
      " 8   causa_acidente          64606 non-null  object\n",
      " 9   tipo_acidente           64606 non-null  object\n",
      " 10  classificacao_acidente  64605 non-null  object\n",
      " 11  fase_dia                64606 non-null  object\n",
      " 12  sentido_via             64606 non-null  object\n",
      " 13  condicao_metereologica  64606 non-null  object\n",
      " 14  tipo_pista              64606 non-null  object\n",
      " 15  tracado_via             64606 non-null  object\n",
      " 16  uso_solo                64606 non-null  object\n",
      " 17  pessoas                 64606 non-null  int64 \n",
      " 18  mortos                  64606 non-null  int64 \n",
      " 19  feridos_leves           64606 non-null  int64 \n",
      " 20  feridos_graves          64606 non-null  int64 \n",
      " 21  ilesos                  64606 non-null  int64 \n",
      " 22  ignorados               64606 non-null  int64 \n",
      " 23  feridos                 64606 non-null  int64 \n",
      " 24  veiculos                64606 non-null  int64 \n",
      " 25  latitude                64606 non-null  object\n",
      " 26  longitude               64606 non-null  object\n",
      " 27  regional                64601 non-null  object\n",
      " 28  delegacia               64587 non-null  object\n",
      " 29  uop                     64556 non-null  object\n",
      "dtypes: int64(10), object(20)\n",
      "memory usage: 14.8+ MB\n"
     ]
    }
   ],
   "source": [
    "dados_2022.info()"
   ]
  },
  {
   "cell_type": "markdown",
   "metadata": {},
   "source": [
    "### Limpeza e filtragem dos dados"
   ]
  },
  {
   "cell_type": "code",
   "execution_count": 6,
   "metadata": {},
   "outputs": [
    {
     "data": {
      "text/html": [
       "<div>\n",
       "<style scoped>\n",
       "    .dataframe tbody tr th:only-of-type {\n",
       "        vertical-align: middle;\n",
       "    }\n",
       "\n",
       "    .dataframe tbody tr th {\n",
       "        vertical-align: top;\n",
       "    }\n",
       "\n",
       "    .dataframe thead th {\n",
       "        text-align: right;\n",
       "    }\n",
       "</style>\n",
       "<table border=\"1\" class=\"dataframe\">\n",
       "  <thead>\n",
       "    <tr style=\"text-align: right;\">\n",
       "      <th></th>\n",
       "      <th>id</th>\n",
       "      <th>data_inversa</th>\n",
       "      <th>dia_semana</th>\n",
       "      <th>horario</th>\n",
       "      <th>uf</th>\n",
       "      <th>br</th>\n",
       "      <th>km</th>\n",
       "      <th>municipio</th>\n",
       "      <th>causa_acidente</th>\n",
       "      <th>tipo_acidente</th>\n",
       "      <th>...</th>\n",
       "      <th>feridos_graves</th>\n",
       "      <th>ilesos</th>\n",
       "      <th>ignorados</th>\n",
       "      <th>feridos</th>\n",
       "      <th>veiculos</th>\n",
       "      <th>latitude</th>\n",
       "      <th>longitude</th>\n",
       "      <th>regional</th>\n",
       "      <th>delegacia</th>\n",
       "      <th>uop</th>\n",
       "    </tr>\n",
       "  </thead>\n",
       "  <tbody>\n",
       "    <tr>\n",
       "      <th>8</th>\n",
       "      <td>331864.0</td>\n",
       "      <td>2021-01-01</td>\n",
       "      <td>sexta-feira</td>\n",
       "      <td>17:10:00</td>\n",
       "      <td>SC</td>\n",
       "      <td>470</td>\n",
       "      <td>79,1</td>\n",
       "      <td>INDAIAL</td>\n",
       "      <td>Transitar na contramão</td>\n",
       "      <td>Colisão frontal</td>\n",
       "      <td>...</td>\n",
       "      <td>1</td>\n",
       "      <td>0</td>\n",
       "      <td>1</td>\n",
       "      <td>6</td>\n",
       "      <td>4</td>\n",
       "      <td>-26,951565</td>\n",
       "      <td>-49,306534</td>\n",
       "      <td>NaN</td>\n",
       "      <td>NaN</td>\n",
       "      <td>NaN</td>\n",
       "    </tr>\n",
       "    <tr>\n",
       "      <th>11</th>\n",
       "      <td>331920.0</td>\n",
       "      <td>2021-01-01</td>\n",
       "      <td>sexta-feira</td>\n",
       "      <td>20:40:00</td>\n",
       "      <td>PR</td>\n",
       "      <td>116</td>\n",
       "      <td>59</td>\n",
       "      <td>CAMPINA GRANDE DO SUL</td>\n",
       "      <td>Entrada inopinada do pedestre</td>\n",
       "      <td>Atropelamento de Pedestre</td>\n",
       "      <td>...</td>\n",
       "      <td>0</td>\n",
       "      <td>1</td>\n",
       "      <td>1</td>\n",
       "      <td>0</td>\n",
       "      <td>3</td>\n",
       "      <td>-25,30335724</td>\n",
       "      <td>-48,94378885</td>\n",
       "      <td>NaN</td>\n",
       "      <td>NaN</td>\n",
       "      <td>NaN</td>\n",
       "    </tr>\n",
       "    <tr>\n",
       "      <th>20</th>\n",
       "      <td>331990.0</td>\n",
       "      <td>2021-01-02</td>\n",
       "      <td>sábado</td>\n",
       "      <td>09:41:00</td>\n",
       "      <td>MG</td>\n",
       "      <td>381</td>\n",
       "      <td>531,5</td>\n",
       "      <td>ITATIAIUCU</td>\n",
       "      <td>Condutor Dormindo</td>\n",
       "      <td>Saída de leito carroçável</td>\n",
       "      <td>...</td>\n",
       "      <td>0</td>\n",
       "      <td>0</td>\n",
       "      <td>0</td>\n",
       "      <td>1</td>\n",
       "      <td>1</td>\n",
       "      <td>-20,18182886</td>\n",
       "      <td>-44,37895835</td>\n",
       "      <td>NaN</td>\n",
       "      <td>NaN</td>\n",
       "      <td>NaN</td>\n",
       "    </tr>\n",
       "  </tbody>\n",
       "</table>\n",
       "<p>3 rows × 30 columns</p>\n",
       "</div>"
      ],
      "text/plain": [
       "          id data_inversa   dia_semana   horario  uf   br     km  \\\n",
       "8   331864.0   2021-01-01  sexta-feira  17:10:00  SC  470   79,1   \n",
       "11  331920.0   2021-01-01  sexta-feira  20:40:00  PR  116     59   \n",
       "20  331990.0   2021-01-02       sábado  09:41:00  MG  381  531,5   \n",
       "\n",
       "                municipio                 causa_acidente  \\\n",
       "8                 INDAIAL         Transitar na contramão   \n",
       "11  CAMPINA GRANDE DO SUL  Entrada inopinada do pedestre   \n",
       "20             ITATIAIUCU              Condutor Dormindo   \n",
       "\n",
       "                tipo_acidente  ... feridos_graves ilesos ignorados feridos  \\\n",
       "8             Colisão frontal  ...              1      0         1       6   \n",
       "11  Atropelamento de Pedestre  ...              0      1         1       0   \n",
       "20  Saída de leito carroçável  ...              0      0         0       1   \n",
       "\n",
       "   veiculos      latitude     longitude  regional  delegacia  uop  \n",
       "8         4    -26,951565    -49,306534       NaN        NaN  NaN  \n",
       "11        3  -25,30335724  -48,94378885       NaN        NaN  NaN  \n",
       "20        1  -20,18182886  -44,37895835       NaN        NaN  NaN  \n",
       "\n",
       "[3 rows x 30 columns]"
      ]
     },
     "execution_count": 6,
     "metadata": {},
     "output_type": "execute_result"
    }
   ],
   "source": [
    "# Filtra os dados em acidentes nos quais houve vítimas fatais\n",
    "\n",
    "dados_fatais_21 = filtro_dados_fatais(dados_2021)\n",
    "dados_fatais_21.head(3)"
   ]
  },
  {
   "cell_type": "code",
   "execution_count": 7,
   "metadata": {},
   "outputs": [
    {
     "data": {
      "text/html": [
       "<div>\n",
       "<style scoped>\n",
       "    .dataframe tbody tr th:only-of-type {\n",
       "        vertical-align: middle;\n",
       "    }\n",
       "\n",
       "    .dataframe tbody tr th {\n",
       "        vertical-align: top;\n",
       "    }\n",
       "\n",
       "    .dataframe thead th {\n",
       "        text-align: right;\n",
       "    }\n",
       "</style>\n",
       "<table border=\"1\" class=\"dataframe\">\n",
       "  <thead>\n",
       "    <tr style=\"text-align: right;\">\n",
       "      <th></th>\n",
       "      <th>id</th>\n",
       "      <th>data_inversa</th>\n",
       "      <th>dia_semana</th>\n",
       "      <th>horario</th>\n",
       "      <th>uf</th>\n",
       "      <th>br</th>\n",
       "      <th>km</th>\n",
       "      <th>municipio</th>\n",
       "      <th>causa_acidente</th>\n",
       "      <th>tipo_acidente</th>\n",
       "      <th>...</th>\n",
       "      <th>feridos_graves</th>\n",
       "      <th>ilesos</th>\n",
       "      <th>ignorados</th>\n",
       "      <th>feridos</th>\n",
       "      <th>veiculos</th>\n",
       "      <th>latitude</th>\n",
       "      <th>longitude</th>\n",
       "      <th>regional</th>\n",
       "      <th>delegacia</th>\n",
       "      <th>uop</th>\n",
       "    </tr>\n",
       "  </thead>\n",
       "  <tbody>\n",
       "    <tr>\n",
       "      <th>1</th>\n",
       "      <td>405158</td>\n",
       "      <td>2022-01-01</td>\n",
       "      <td>sábado</td>\n",
       "      <td>02:40:00</td>\n",
       "      <td>PR</td>\n",
       "      <td>116</td>\n",
       "      <td>33</td>\n",
       "      <td>CAMPINA GRANDE DO SUL</td>\n",
       "      <td>Ingestão de álcool pelo condutor</td>\n",
       "      <td>Tombamento</td>\n",
       "      <td>...</td>\n",
       "      <td>0</td>\n",
       "      <td>0</td>\n",
       "      <td>1</td>\n",
       "      <td>1</td>\n",
       "      <td>2</td>\n",
       "      <td>-25,114403</td>\n",
       "      <td>-48,8467554</td>\n",
       "      <td>SPRF-PR</td>\n",
       "      <td>DEL01-PR</td>\n",
       "      <td>UOP02-DEL01-PR</td>\n",
       "    </tr>\n",
       "    <tr>\n",
       "      <th>7</th>\n",
       "      <td>405234</td>\n",
       "      <td>2022-01-01</td>\n",
       "      <td>sábado</td>\n",
       "      <td>08:05:00</td>\n",
       "      <td>SC</td>\n",
       "      <td>163</td>\n",
       "      <td>80,1</td>\n",
       "      <td>GUARACIABA</td>\n",
       "      <td>Ausência de reação do condutor</td>\n",
       "      <td>Colisão frontal</td>\n",
       "      <td>...</td>\n",
       "      <td>1</td>\n",
       "      <td>0</td>\n",
       "      <td>1</td>\n",
       "      <td>2</td>\n",
       "      <td>3</td>\n",
       "      <td>-26,65043908</td>\n",
       "      <td>-53,5185463</td>\n",
       "      <td>SPRF-SC</td>\n",
       "      <td>DEL07-SC</td>\n",
       "      <td>UOP03-DEL07-SC</td>\n",
       "    </tr>\n",
       "    <tr>\n",
       "      <th>9</th>\n",
       "      <td>405254</td>\n",
       "      <td>2022-01-01</td>\n",
       "      <td>sábado</td>\n",
       "      <td>14:15:00</td>\n",
       "      <td>CE</td>\n",
       "      <td>116</td>\n",
       "      <td>415,4</td>\n",
       "      <td>IPAUMIRIM</td>\n",
       "      <td>Manobra de mudança de faixa</td>\n",
       "      <td>Colisão frontal</td>\n",
       "      <td>...</td>\n",
       "      <td>0</td>\n",
       "      <td>1</td>\n",
       "      <td>3</td>\n",
       "      <td>0</td>\n",
       "      <td>5</td>\n",
       "      <td>-6,741404</td>\n",
       "      <td>-38,792746</td>\n",
       "      <td>SPRF-CE</td>\n",
       "      <td>DEL05-CE</td>\n",
       "      <td>UOP01-DEL05-CE</td>\n",
       "    </tr>\n",
       "  </tbody>\n",
       "</table>\n",
       "<p>3 rows × 30 columns</p>\n",
       "</div>"
      ],
      "text/plain": [
       "       id data_inversa dia_semana   horario  uf   br     km  \\\n",
       "1  405158   2022-01-01     sábado  02:40:00  PR  116     33   \n",
       "7  405234   2022-01-01     sábado  08:05:00  SC  163   80,1   \n",
       "9  405254   2022-01-01     sábado  14:15:00  CE  116  415,4   \n",
       "\n",
       "               municipio                    causa_acidente    tipo_acidente  \\\n",
       "1  CAMPINA GRANDE DO SUL  Ingestão de álcool pelo condutor       Tombamento   \n",
       "7             GUARACIABA    Ausência de reação do condutor  Colisão frontal   \n",
       "9              IPAUMIRIM       Manobra de mudança de faixa  Colisão frontal   \n",
       "\n",
       "   ... feridos_graves ilesos ignorados feridos veiculos      latitude  \\\n",
       "1  ...              0      0         1       1        2    -25,114403   \n",
       "7  ...              1      0         1       2        3  -26,65043908   \n",
       "9  ...              0      1         3       0        5     -6,741404   \n",
       "\n",
       "     longitude  regional  delegacia             uop  \n",
       "1  -48,8467554   SPRF-PR   DEL01-PR  UOP02-DEL01-PR  \n",
       "7  -53,5185463   SPRF-SC   DEL07-SC  UOP03-DEL07-SC  \n",
       "9   -38,792746   SPRF-CE   DEL05-CE  UOP01-DEL05-CE  \n",
       "\n",
       "[3 rows x 30 columns]"
      ]
     },
     "execution_count": 7,
     "metadata": {},
     "output_type": "execute_result"
    }
   ],
   "source": [
    "dados_fatais_22 = filtro_dados_fatais(dados_2022)\n",
    "dados_fatais_22.head(3)"
   ]
  },
  {
   "cell_type": "code",
   "execution_count": 8,
   "metadata": {},
   "outputs": [],
   "source": [
    "# Remove as colunas que não serão utilizadas na análise a seguir (latitude, longitude, regional, delegacia e uop)\n",
    "\n",
    "dados_fatais_limpo_21 = remover_colunas_nao_usadas(dados_fatais_21)"
   ]
  },
  {
   "cell_type": "code",
   "execution_count": 9,
   "metadata": {},
   "outputs": [],
   "source": [
    "dados_fatais_limpo_22 = remover_colunas_nao_usadas(dados_fatais_22)"
   ]
  },
  {
   "cell_type": "markdown",
   "metadata": {},
   "source": [
    "### Verificação das causas e divisão de categorias"
   ]
  },
  {
   "cell_type": "code",
   "execution_count": 10,
   "metadata": {},
   "outputs": [
    {
     "name": "stdout",
     "output_type": "stream",
     "text": [
      "Coluna: id\n",
      "Valores únicos (64568): [331730. 331804. 331815. ... 613470. 613705. 621196.]\n",
      "\n",
      "Coluna: data_inversa\n",
      "Valores únicos (365): ['2021-01-01' '2021-01-02' '2021-01-03' '2021-01-04' '2021-01-05'\n",
      " '2021-01-06' '2021-01-07' '2021-01-08' '2021-01-09' '2021-01-10'\n",
      " '2021-01-11' '2021-01-12' '2021-01-13' '2021-01-14' '2021-01-15'\n",
      " '2021-01-16' '2021-01-17' '2021-01-18' '2021-01-19' '2021-01-20'\n",
      " '2021-01-21' '2021-01-22' '2021-01-23' '2021-01-24' '2021-01-25'\n",
      " '2021-01-26' '2021-01-27' '2021-01-28' '2021-01-29' '2021-01-30'\n",
      " '2021-01-31' '2021-02-01' '2021-02-02' '2021-02-03' '2021-02-04'\n",
      " '2021-02-05' '2021-02-06' '2021-02-07' '2021-02-08' '2021-02-09'\n",
      " '2021-02-10' '2021-02-11' '2021-02-12' '2021-02-13' '2021-02-14'\n",
      " '2021-02-15' '2021-02-16' '2021-02-17' '2021-02-18' '2021-02-19'\n",
      " '2021-02-20' '2021-02-21' '2021-02-22' '2021-02-23' '2021-02-24'\n",
      " '2021-02-25' '2021-02-26' '2021-02-27' '2021-02-28' '2021-03-01'\n",
      " '2021-03-02' '2021-03-03' '2021-03-04' '2021-03-05' '2021-03-06'\n",
      " '2021-03-07' '2021-03-08' '2021-03-09' '2021-03-10' '2021-03-11'\n",
      " '2021-03-12' '2021-03-13' '2021-03-14' '2021-03-15' '2021-03-16'\n",
      " '2021-03-17' '2021-03-18' '2021-03-19' '2021-03-20' '2021-03-21'\n",
      " '2021-03-22' '2021-03-23' '2021-03-24' '2021-03-25' '2021-03-26'\n",
      " '2021-03-27' '2021-03-28' '2021-03-29' '2021-03-30' '2021-03-31'\n",
      " '2021-04-01' '2021-04-02' '2021-04-03' '2021-04-04' '2021-04-05'\n",
      " '2021-04-06' '2021-04-07' '2021-04-08' '2021-04-09' '2021-04-10'\n",
      " '2021-04-11' '2021-04-12' '2021-04-13' '2021-04-14' '2021-04-15'\n",
      " '2021-04-16' '2021-04-17' '2021-04-18' '2021-04-19' '2021-04-20'\n",
      " '2021-04-21' '2021-04-22' '2021-04-23' '2021-04-24' '2021-04-25'\n",
      " '2021-04-26' '2021-04-27' '2021-04-28' '2021-04-29' '2021-04-30'\n",
      " '2021-05-01' '2021-05-02' '2021-05-03' '2021-05-04' '2021-05-05'\n",
      " '2021-05-06' '2021-05-07' '2021-05-08' '2021-05-09' '2021-05-10'\n",
      " '2021-05-11' '2021-05-12' '2021-05-13' '2021-05-14' '2021-05-15'\n",
      " '2021-05-16' '2021-05-17' '2021-05-18' '2021-05-19' '2021-05-20'\n",
      " '2021-05-21' '2021-05-22' '2021-05-23' '2021-05-24' '2021-05-25'\n",
      " '2021-05-26' '2021-05-27' '2021-05-28' '2021-05-29' '2021-05-30'\n",
      " '2021-05-31' '2021-06-01' '2021-06-02' '2021-06-03' '2021-06-04'\n",
      " '2021-06-05' '2021-06-06' '2021-06-07' '2021-06-08' '2021-06-09'\n",
      " '2021-06-10' '2021-06-11' '2021-06-12' '2021-06-13' '2021-06-16'\n",
      " '2021-06-14' '2021-06-15' '2021-06-17' '2021-06-18' '2021-06-19'\n",
      " '2021-06-20' '2021-06-21' '2021-06-22' '2021-06-23' '2021-06-24'\n",
      " '2021-06-25' '2021-06-26' '2021-06-27' '2021-06-28' '2021-06-29'\n",
      " '2021-06-30' '2021-07-01' '2021-07-02' '2021-07-03' '2021-07-04'\n",
      " '2021-07-05' '2021-07-06' '2021-07-07' '2021-07-08' '2021-07-09'\n",
      " '2021-07-10' '2021-07-11' '2021-07-12' '2021-07-13' '2021-07-14'\n",
      " '2021-07-15' '2021-07-16' '2021-07-17' '2021-07-18' '2021-07-19'\n",
      " '2021-07-20' '2021-07-21' '2021-07-22' '2021-07-23' '2021-07-24'\n",
      " '2021-07-25' '2021-07-26' '2021-07-27' '2021-07-28' '2021-07-29'\n",
      " '2021-07-30' '2021-07-31' '2021-08-01' '2021-08-02' '2021-08-03'\n",
      " '2021-08-04' '2021-08-05' '2021-08-06' '2021-08-07' '2021-08-08'\n",
      " '2021-08-09' '2021-08-10' '2021-08-11' '2021-08-12' '2021-08-13'\n",
      " '2021-08-14' '2021-08-15' '2021-08-16' '2021-08-17' '2021-08-18'\n",
      " '2021-08-19' '2021-08-20' '2021-08-21' '2021-08-22' '2021-08-23'\n",
      " '2021-08-24' '2021-08-25' '2021-08-26' '2021-08-27' '2021-08-28'\n",
      " '2021-08-29' '2021-08-30' '2021-08-31' '2021-09-01' '2021-09-02'\n",
      " '2021-09-03' '2021-09-04' '2021-09-05' '2021-09-06' '2021-09-07'\n",
      " '2021-09-08' '2021-09-09' '2021-09-10' '2021-09-11' '2021-09-12'\n",
      " '2021-09-13' '2021-09-14' '2021-09-15' '2021-09-16' '2021-09-17'\n",
      " '2021-09-18' '2021-09-19' '2021-09-20' '2021-09-21' '2021-09-22'\n",
      " '2021-09-23' '2021-09-24' '2021-09-25' '2021-09-26' '2021-09-27'\n",
      " '2021-09-28' '2021-09-29' '2021-09-30' '2021-10-01' '2021-10-02'\n",
      " '2021-10-03' '2021-10-04' '2021-10-05' '2021-10-06' '2021-10-07'\n",
      " '2021-10-08' '2021-10-09' '2021-10-10' '2021-10-11' '2021-10-12'\n",
      " '2021-10-13' '2021-10-14' '2021-10-15' '2021-10-16' '2021-10-17'\n",
      " '2021-10-18' '2021-10-19' '2021-10-20' '2021-10-21' '2021-10-22'\n",
      " '2021-10-23' '2021-10-24' '2021-10-25' '2021-10-26' '2021-10-27'\n",
      " '2021-10-28' '2021-10-29' '2021-10-30' '2021-10-31' '2021-11-01'\n",
      " '2021-11-02' '2021-11-03' '2021-11-04' '2021-11-05' '2021-11-06'\n",
      " '2021-11-07' '2021-11-08' '2021-11-09' '2021-11-10' '2021-11-11'\n",
      " '2021-11-12' '2021-11-13' '2021-11-14' '2021-11-15' '2021-11-16'\n",
      " '2021-11-17' '2021-11-18' '2021-11-19' '2021-11-20' '2021-11-21'\n",
      " '2021-11-22' '2021-11-23' '2021-11-24' '2021-11-25' '2021-11-26'\n",
      " '2021-11-27' '2021-11-28' '2021-11-29' '2021-11-30' '2021-12-01'\n",
      " '2021-12-02' '2021-12-03' '2021-12-04' '2021-12-05' '2021-12-06'\n",
      " '2021-12-07' '2021-12-08' '2021-12-09' '2021-12-10' '2021-12-11'\n",
      " '2021-12-12' '2021-12-13' '2021-12-14' '2021-12-15' '2021-12-16'\n",
      " '2021-12-17' '2021-12-18' '2021-12-19' '2021-12-20' '2021-12-21'\n",
      " '2021-12-22' '2021-12-23' '2021-12-24' '2021-12-25' '2021-12-26'\n",
      " '2021-12-27' '2021-12-28' '2021-12-29' '2021-12-30' '2021-12-31']\n",
      "\n",
      "Coluna: dia_semana\n",
      "Valores únicos (7): ['sexta-feira' 'sábado' 'domingo' 'segunda-feira' 'terça-feira'\n",
      " 'quarta-feira' 'quinta-feira']\n",
      "\n",
      "Coluna: horario\n",
      "Valores únicos (1302): ['05:30:00' '08:05:00' '10:10:00' ... '14:41:00' '23:48:00' '01:02:00']\n",
      "\n",
      "Coluna: uf\n",
      "Valores únicos (27): ['SP' 'AM' 'CE' 'RJ' 'BA' 'PR' 'GO' 'SC' 'MG' 'PE' 'PI' 'MS' 'RS' 'MT'\n",
      " 'ES' 'TO' 'RN' 'AC' 'AL' 'SE' 'MA' 'DF' 'PB' 'RR' 'RO' 'AP' 'PA']\n",
      "\n",
      "Coluna: br\n",
      "Valores únicos (114): [116 174 222 493 393 101 277  20 470 381 424 135 163 386 262  50 316 153\n",
      " 364 330  40 324 158 365 280 448 476 232 356 110 376  60 146 282 290 459\n",
      "  70 465 369 407 242 452 267 392 230 343 405 373 251  80 304 104 319 435\n",
      "  10 482 210 354 285 467 287 259 428 472 468 226 361 414 235 156 408 293\n",
      " 423 471 429 401 155 419 488 410 308 469 487   0 402 463 272 406 480 367\n",
      " 418 475 436 415 427 420  30 359 349 425 317 426 412 447 403 495 421 422\n",
      " 122 416 432 484 434 433]\n",
      "\n",
      "Coluna: km\n",
      "Valores únicos (7724): ['453' '937' '128,5' ... '547,3' '577,9' '551,7']\n",
      "\n",
      "Coluna: municipio\n",
      "Valores únicos (1791): ['REGISTRO' 'MANAUS' 'ITAPAJE' ... 'TRIUNFO POTIGUAR' 'SANTA BRIGIDA'\n",
      " 'GUAMARE']\n",
      "\n",
      "Coluna: causa_acidente\n",
      "Valores únicos (71): ['Reação tardia ou ineficiente do condutor' 'Velocidade Incompatível'\n",
      " 'Ingestão de álcool e/ou substâncias psicoativas pelo pedestre'\n",
      " 'Condutor Dormindo' 'Pista Escorregadia'\n",
      " 'Demais falhas mecânicas ou elétricas' 'Transitar na contramão'\n",
      " 'Acessar a via sem observar a presença dos outros veículos'\n",
      " 'Entrada inopinada do pedestre'\n",
      " 'Condutor deixou de manter distância do veículo da frente'\n",
      " 'Ultrapassagem Indevida'\n",
      " 'Trafegar com motocicleta (ou similar) entre as faixas'\n",
      " 'Mal súbito do condutor' 'Frear bruscamente'\n",
      " 'Acumulo de água sobre o pavimento' 'Problema com o freio'\n",
      " 'Ingestão de álcool pelo condutor' 'Fumaça' 'Manobra de mudança de faixa'\n",
      " 'Ausência de reação do condutor' 'Chuva' 'Pedestre andava na pista'\n",
      " 'Carga excessiva e/ou mal acondicionada' 'Acostamento em desnível'\n",
      " 'Condutor desrespeitou a iluminação vermelha do semáforo'\n",
      " 'Curva acentuada' 'Desrespeitar a preferência no cruzamento'\n",
      " 'Avarias e/ou desgaste excessivo no pneu' 'Conversão proibida'\n",
      " 'Estacionar ou parar em local proibido'\n",
      " 'Objeto estático sobre o leito carroçável'\n",
      " 'Pedestre cruzava a pista fora da faixa'\n",
      " 'Acumulo de óleo sobre o pavimento'\n",
      " 'Falta de elemento de contenção que evite a saída do leito carroçável'\n",
      " 'Retorno proibido' 'Condutor usando celular' 'Demais falhas na via'\n",
      " 'Iluminação deficiente' 'Pista em desnível'\n",
      " 'Ingestão de álcool ou de substâncias psicoativas pelo pedestre'\n",
      " 'Obstrução na via' 'Acesso irregular' 'Obras na pista'\n",
      " 'Ingestão de substâncias psicoativas pelo condutor' 'Animais na Pista'\n",
      " 'Ausência de sinalização' 'Pista esburacada' 'Transitar no acostamento'\n",
      " 'Afundamento ou ondulação no pavimento' 'Desvio temporário'\n",
      " 'Demais Fenômenos da natureza'\n",
      " 'Deficiência do Sistema de Iluminação/Sinalização'\n",
      " 'Área urbana sem a presença de local apropriado para a travessia de pedestres'\n",
      " 'Falta de acostamento' 'Sinalização mal posicionada'\n",
      " 'Semáforo com defeito' 'Declive acentuado'\n",
      " 'Acumulo de areia ou detritos sobre o pavimento'\n",
      " 'Faixas de trânsito com largura insuficiente'\n",
      " 'Restrição de visibilidade em curvas verticais' 'Neblina'\n",
      " 'Restrição de visibilidade em curvas horizontais' 'Problema na suspensão'\n",
      " 'Participar de racha' 'Modificação proibida' 'Transitar na calçada'\n",
      " 'Faróis desregulados' 'Sistema de drenagem ineficiente'\n",
      " 'Redutor de velocidade em desacordo'\n",
      " 'Deixar de acionar o farol da motocicleta (ou similar)'\n",
      " 'Sinalização encoberta']\n",
      "\n",
      "Coluna: tipo_acidente\n",
      "Valores únicos (17): ['Tombamento' 'Colisão traseira' 'Colisão lateral' 'Colisão frontal'\n",
      " 'Saída de leito carroçável' 'Incêndio' 'Colisão transversal'\n",
      " 'Atropelamento de Pedestre' 'Colisão lateral mesmo sentido'\n",
      " 'Engavetamento' 'Capotamento' 'Colisão com objeto'\n",
      " 'Derramamento de carga' 'Colisão lateral sentido oposto'\n",
      " 'Queda de ocupante de veículo' 'Eventos atípicos'\n",
      " 'Atropelamento de Animal']\n",
      "\n",
      "Coluna: classificacao_acidente\n",
      "Valores únicos (4): ['Com Vítimas Feridas' nan 'Sem Vítimas' 'Com Vítimas Fatais']\n",
      "\n",
      "Coluna: fase_dia\n",
      "Valores únicos (4): ['Amanhecer' 'Pleno dia' 'Plena Noite' 'Anoitecer']\n",
      "\n",
      "Coluna: sentido_via\n",
      "Valores únicos (3): ['Crescente' 'Decrescente' 'Não Informado']\n",
      "\n",
      "Coluna: condicao_metereologica\n",
      "Valores únicos (10): ['Nublado' 'Céu Claro' 'Garoa/Chuvisco' 'Chuva' 'Ignorado' 'Sol'\n",
      " 'Nevoeiro/Neblina' 'Vento' 'Neve' 'Granizo']\n",
      "\n",
      "Coluna: tipo_pista\n",
      "Valores únicos (3): ['Dupla' 'Simples' 'Múltipla']\n",
      "\n",
      "Coluna: tracado_via\n",
      "Valores únicos (390): ['Curva' 'Reta' 'Reta;Interseção de Vias' 'Declive;Curva' 'Aclive'\n",
      " 'Curva;Declive' 'Ponte;Reta' 'Declive' 'Interseção de Vias'\n",
      " 'Reta;Rotatória' 'Ponte' 'Curva;Interseção de Vias' 'Reta;Aclive'\n",
      " 'Retorno Regulamentado' 'Declive;Reta' 'Aclive;Reta' 'Curva;Aclive'\n",
      " 'Rotatória' 'Reta;Declive' 'Reta;Ponte' 'Rotatória;Interseção de Vias'\n",
      " 'Curva;Ponte' 'Interseção de Vias;Reta'\n",
      " 'Em Obras;Aclive;Desvio Temporário'\n",
      " 'Curva;Desvio Temporário;Retorno Regulamentado'\n",
      " 'Em Obras;Desvio Temporário;Túnel;Viaduto;Ponte;Retorno Regulamentado'\n",
      " 'Em Obras' 'Rotatória;Curva' 'Ponte;Curva' 'Reta;Retorno Regulamentado'\n",
      " 'Interseção de Vias;Curva' 'Aclive;Curva' 'Viaduto;Retorno Regulamentado'\n",
      " 'Declive;Interseção de Vias;Reta' 'Retorno Regulamentado;Curva;Rotatória'\n",
      " 'Viaduto;Reta' 'Reta;Em Obras' 'Desvio Temporário' 'Viaduto'\n",
      " 'Em Obras;Desvio Temporário;Curva' 'Em Obras;Aclive;Reta'\n",
      " 'Reta;Desvio Temporário;Em Obras' 'Desvio Temporário;Em Obras;Reta'\n",
      " 'Reta;Viaduto' 'Declive;Reta;Interseção de Vias'\n",
      " 'Reta;Retorno Regulamentado;Declive' 'Curva;Rotatória' 'Em Obras;Reta'\n",
      " 'Curva;Em Obras' 'Declive;Reta;Ponte'\n",
      " 'Interseção de Vias;Declive;Reta;Viaduto' 'Curva;Ponte;Declive'\n",
      " 'Interseção de Vias;Curva;Declive' 'Viaduto;Interseção de Vias;Reta'\n",
      " 'Desvio Temporário;Declive;Reta' 'Interseção de Vias;Rotatória'\n",
      " 'Em Obras;Curva' 'Reta;Aclive;Em Obras;Viaduto;Desvio Temporário'\n",
      " 'Curva;Declive;Interseção de Vias' 'Túnel' 'Reta;Em Obras;Declive'\n",
      " 'Declive;Interseção de Vias' 'Declive;Retorno Regulamentado'\n",
      " 'Em Obras;Curva;Aclive' 'Em Obras;Desvio Temporário'\n",
      " 'Reta;Interseção de Vias;Em Obras' 'Declive;Rotatória'\n",
      " 'Viaduto;Desvio Temporário' 'Curva;Viaduto;Aclive' 'Em Obras;Ponte;Curva'\n",
      " 'Viaduto;Aclive' 'Rotatória;Em Obras' 'Reta;Declive;Em Obras'\n",
      " 'Curva;Em Obras;Desvio Temporário' 'Reta;Desvio Temporário'\n",
      " 'Viaduto;Curva'\n",
      " 'Retorno Regulamentado;Interseção de Vias;Em Obras;Desvio Temporário;Reta'\n",
      " 'Curva;Viaduto' 'Retorno Regulamentado;Reta' 'Ponte;Declive;Curva'\n",
      " 'Curva;Retorno Regulamentado' 'Aclive;Em Obras' 'Curva;Aclive;Em Obras'\n",
      " 'Aclive;Interseção de Vias;Curva' 'Declive;Ponte;Curva'\n",
      " 'Aclive;Interseção de Vias;Reta' 'Retorno Regulamentado;Rotatória'\n",
      " 'Curva;Declive;Viaduto' 'Aclive;Curva;Interseção de Vias'\n",
      " 'Retorno Regulamentado;Aclive;Reta' 'Rotatória;Interseção de Vias;Reta'\n",
      " 'Rotatória;Reta' 'Interseção de Vias;Em Obras;Desvio Temporário'\n",
      " 'Ponte;Aclive;Curva' 'Reta;Túnel'\n",
      " 'Viaduto;Retorno Regulamentado;Interseção de Vias' 'Em Obras;Rotatória'\n",
      " 'Retorno Regulamentado;Reta;Declive' 'Declive;Curva;Desvio Temporário'\n",
      " 'Em Obras;Reta;Declive' 'Reta;Em Obras;Aclive' 'Reta;Aclive;Viaduto'\n",
      " 'Aclive;Interseção de Vias;Viaduto' 'Reta;Declive;Viaduto'\n",
      " 'Aclive;Retorno Regulamentado;Interseção de Vias' 'Aclive;Curva;Viaduto'\n",
      " 'Interseção de Vias;Reta;Rotatória' 'Reta;Interseção de Vias;Ponte'\n",
      " 'Declive;Ponte;Em Obras' 'Curva;Declive;Em Obras'\n",
      " 'Rotatória;Interseção de Vias;Declive' 'Declive;Em Obras'\n",
      " 'Viaduto;Interseção de Vias' 'Retorno Regulamentado;Curva;Declive'\n",
      " 'Viaduto;Declive' 'Viaduto;Curva;Declive'\n",
      " 'Reta;Declive;Retorno Regulamentado' 'Aclive;Reta;Retorno Regulamentado'\n",
      " 'Aclive;Viaduto' 'Em Obras;Interseção de Vias'\n",
      " 'Viaduto;Interseção de Vias;Retorno Regulamentado' 'Aclive;Viaduto;Curva'\n",
      " 'Viaduto;Aclive;Reta' 'Em Obras;Viaduto'\n",
      " 'Reta;Viaduto;Interseção de Vias' 'Em Obras;Aclive'\n",
      " 'Desvio Temporário;Em Obras' 'Em Obras;Declive'\n",
      " 'Rotatória;Reta;Retorno Regulamentado' 'Em Obras;Reta;Interseção de Vias'\n",
      " 'Reta;Retorno Regulamentado;Aclive' 'Curva;Interseção de Vias;Declive'\n",
      " 'Reta;Em Obras;Desvio Temporário'\n",
      " 'Viaduto;Reta;Declive;Retorno Regulamentado' 'Declive;Ponte'\n",
      " 'Em Obras;Declive;Reta' 'Viaduto;Declive;Curva;Túnel'\n",
      " 'Declive;Interseção de Vias;Curva' 'Reta;Ponte;Em Obras'\n",
      " 'Interseção de Vias;Retorno Regulamentado;Reta'\n",
      " 'Reta;Interseção de Vias;Viaduto' 'Em Obras;Reta;Desvio Temporário'\n",
      " 'Viaduto;Declive;Curva' 'Declive;Reta;Ponte;Em Obras'\n",
      " 'Curva;Em Obras;Declive' 'Declive;Em Obras;Reta' 'Rotatória;Aclive'\n",
      " 'Retorno Regulamentado;Aclive;Interseção de Vias' 'Ponte;Aclive;Reta'\n",
      " 'Interseção de Vias;Em Obras;Reta' 'Aclive;Em Obras;Reta'\n",
      " 'Reta;Aclive;Interseção de Vias' 'Rotatória;Declive;Interseção de Vias'\n",
      " 'Curva;Interseção de Vias;Aclive' 'Ponte;Aclive'\n",
      " 'Desvio Temporário;Reta;Declive' 'Viaduto;Curva;Aclive'\n",
      " 'Curva;Declive;Ponte' 'Reta;Em Obras;Declive;Ponte'\n",
      " 'Em Obras;Declive;Curva' 'Interseção de Vias;Declive;Reta'\n",
      " 'Em Obras;Declive;Curva;Viaduto' 'Declive;Ponte;Reta'\n",
      " 'Interseção de Vias;Retorno Regulamentado'\n",
      " 'Retorno Regulamentado;Declive;Ponte' 'Reta;Viaduto;Aclive'\n",
      " 'Declive;Reta;Em Obras' 'Reta;Interseção de Vias;Aclive'\n",
      " 'Declive;Curva;Viaduto' 'Declive;Curva;Em Obras'\n",
      " 'Retorno Regulamentado;Interseção de Vias;Reta'\n",
      " 'Rotatória;Interseção de Vias;Viaduto' 'Viaduto;Reta;Declive'\n",
      " 'Reta;Rotatória;Declive;Interseção de Vias;Viaduto'\n",
      " 'Reta;Interseção de Vias;Declive' 'Reta;Rotatória;Ponte'\n",
      " 'Interseção de Vias;Viaduto' 'Interseção de Vias;Reta;Aclive'\n",
      " 'Em Obras;Desvio Temporário;Ponte;Reta'\n",
      " 'Aclive;Retorno Regulamentado;Curva' 'Interseção de Vias;Reta;Declive'\n",
      " 'Interseção de Vias;Retorno Regulamentado;Rotatória;Reta;Declive'\n",
      " 'Aclive;Reta;Ponte' 'Reta;Interseção de Vias;Rotatória'\n",
      " 'Declive;Viaduto;Curva;Interseção de Vias' 'Desvio Temporário;Reta'\n",
      " 'Curva;Aclive;Retorno Regulamentado' 'Reta;Aclive;Retorno Regulamentado'\n",
      " 'Declive;Em Obras;Curva' 'Em Obras;Reta;Aclive' 'Rotatória;Reta;Em Obras'\n",
      " 'Reta;Aclive;Rotatória;Interseção de Vias'\n",
      " 'Curva;Desvio Temporário;Em Obras;Aclive' 'Túnel;Curva'\n",
      " 'Reta;Retorno Regulamentado;Interseção de Vias' 'Aclive;Reta;Em Obras'\n",
      " 'Em Obras;Curva;Desvio Temporário' 'Interseção de Vias;Reta;Viaduto'\n",
      " 'Reta;Declive;Ponte' 'Reta;Declive;Interseção de Vias'\n",
      " 'Declive;Reta;Viaduto' 'Retorno Regulamentado;Túnel'\n",
      " 'Declive;Viaduto;Curva' 'Ponte;Declive;Em Obras;Curva'\n",
      " 'Em Obras;Declive;Desvio Temporário'\n",
      " 'Interseção de Vias;Reta;Desvio Temporário'\n",
      " 'Retorno Regulamentado;Viaduto' 'Declive;Reta;Retorno Regulamentado'\n",
      " 'Curva;Ponte;Aclive;Em Obras' 'Interseção de Vias;Reta;Em Obras'\n",
      " 'Rotatória;Interseção de Vias;Curva' 'Aclive;Desvio Temporário'\n",
      " 'Retorno Regulamentado;Interseção de Vias' 'Declive;Rotatória;Reta'\n",
      " 'Rotatória;Retorno Regulamentado' 'Em Obras;Reta;Ponte'\n",
      " 'Desvio Temporário;Reta;Em Obras' 'Declive;Curva;Interseção de Vias'\n",
      " 'Reta;Rotatória;Interseção de Vias'\n",
      " 'Reta;Declive;Em Obras;Desvio Temporário' 'Rotatória;Aclive;Curva'\n",
      " 'Reta;Aclive;Em Obras;Interseção de Vias'\n",
      " 'Rotatória;Curva;Viaduto;Declive' 'Em Obras;Interseção de Vias;Reta'\n",
      " 'Interseção de Vias;Reta;Retorno Regulamentado'\n",
      " 'Reta;Viaduto;Retorno Regulamentado;Aclive' 'Viaduto;Reta;Rotatória'\n",
      " 'Rotatória;Em Obras;Declive' 'Reta;Desvio Temporário;Em Obras;Aclive'\n",
      " 'Ponte;Reta;Declive' 'Retorno Regulamentado;Declive;Reta'\n",
      " 'Interseção de Vias;Declive;Curva'\n",
      " 'Retorno Regulamentado;Curva;Interseção de Vias'\n",
      " 'Declive;Retorno Regulamentado;Curva' 'Viaduto;Reta;Aclive'\n",
      " 'Reta;Em Obras;Interseção de Vias' 'Aclive;Interseção de Vias'\n",
      " 'Em Obras;Desvio Temporário;Reta' 'Retorno Regulamentado;Declive'\n",
      " 'Aclive;Em Obras;Curva' 'Rotatória;Declive' 'Ponte;Declive'\n",
      " 'Em Obras;Reta;Túnel' 'Interseção de Vias;Viaduto;Curva;Declive'\n",
      " 'Retorno Regulamentado;Curva' 'Interseção de Vias;Aclive'\n",
      " 'Viaduto;Interseção de Vias;Rotatória'\n",
      " 'Curva;Declive;Retorno Regulamentado' 'Interseção de Vias;Viaduto;Reta'\n",
      " 'Declive;Viaduto;Reta' 'Em Obras;Reta;Viaduto'\n",
      " 'Rotatória;Retorno Regulamentado;Interseção de Vias' 'Declive;Viaduto'\n",
      " 'Rotatória;Viaduto'\n",
      " 'Interseção de Vias;Em Obras;Retorno Regulamentado;Viaduto;Reta'\n",
      " 'Desvio Temporário;Em Obras;Curva;Declive'\n",
      " 'Aclive;Rotatória;Interseção de Vias;Reta;Viaduto'\n",
      " 'Retorno Regulamentado;Aclive' 'Interseção de Vias;Aclive;Reta'\n",
      " 'Curva;Aclive;Interseção de Vias' 'Curva;Em Obras;Aclive'\n",
      " 'Retorno Regulamentado;Aclive;Em Obras' 'Reta;Viaduto;Declive'\n",
      " 'Reta;Aclive;Em Obras' 'Rotatória;Retorno Regulamentado;Reta'\n",
      " 'Declive;Curva;Rotatória' 'Curva;Rotatória;Viaduto'\n",
      " 'Interseção de Vias;Reta;Declive;Em Obras;Desvio Temporário'\n",
      " 'Viaduto;Aclive;Curva' 'Reta;Rotatória;Retorno Regulamentado'\n",
      " 'Declive;Retorno Regulamentado;Reta'\n",
      " 'Desvio Temporário;Interseção de Vias'\n",
      " 'Interseção de Vias;Retorno Regulamentado;Viaduto' 'Curva;Aclive;Viaduto'\n",
      " 'Reta;Em Obras;Aclive;Desvio Temporário'\n",
      " 'Declive;Interseção de Vias;Curva;Retorno Regulamentado'\n",
      " 'Interseção de Vias;Em Obras'\n",
      " 'Retorno Regulamentado;Interseção de Vias;Curva'\n",
      " 'Aclive;Reta;Interseção de Vias' 'Interseção de Vias;Declive'\n",
      " 'Retorno Regulamentado;Em Obras;Reta'\n",
      " 'Reta;Interseção de Vias;Retorno Regulamentado'\n",
      " 'Aclive;Retorno Regulamentado;Reta' 'Curva;Interseção de Vias;Rotatória'\n",
      " 'Viaduto;Rotatória;Curva;Interseção de Vias'\n",
      " 'Retorno Regulamentado;Curva;Aclive' 'Aclive;Interseção de Vias;Em Obras'\n",
      " 'Interseção de Vias;Reta;Declive;Rotatória' 'Viaduto;Em Obras'\n",
      " 'Declive;Retorno Regulamentado;Curva;Em Obras'\n",
      " 'Interseção de Vias;Aclive;Retorno Regulamentado'\n",
      " 'Reta;Retorno Regulamentado;Rotatória'\n",
      " 'Em Obras;Declive;Curva;Desvio Temporário' 'Ponte;Em Obras;Reta'\n",
      " 'Viaduto;Curva;Túnel' 'Viaduto;Rotatória'\n",
      " 'Interseção de Vias;Retorno Regulamentado;Rotatória'\n",
      " 'Em Obras;Aclive;Desvio Temporário;Curva'\n",
      " 'Interseção de Vias;Aclive;Curva' 'Aclive;Retorno Regulamentado'\n",
      " 'Ponte;Retorno Regulamentado;Reta;Declive'\n",
      " 'Retorno Regulamentado;Interseção de Vias;Declive'\n",
      " 'Aclive;Interseção de Vias;Curva;Viaduto'\n",
      " 'Rotatória;Curva;Interseção de Vias'\n",
      " 'Interseção de Vias;Rotatória;Curva;Viaduto;Retorno Regulamentado'\n",
      " 'Declive;Rotatória;Curva' 'Reta;Em Obras;Viaduto'\n",
      " 'Interseção de Vias;Rotatória;Reta;Aclive;Retorno Regulamentado'\n",
      " 'Viaduto;Em Obras;Reta' 'Viaduto;Rotatória;Reta;Declive'\n",
      " 'Aclive;Reta;Viaduto'\n",
      " 'Curva;Viaduto;Aclive;Interseção de Vias;Retorno Regulamentado'\n",
      " 'Retorno Regulamentado;Reta;Interseção de Vias'\n",
      " 'Curva;Retorno Regulamentado;Declive'\n",
      " 'Curva;Interseção de Vias;Retorno Regulamentado' 'Viaduto;Declive;Reta'\n",
      " 'Aclive;Curva;Retorno Regulamentado' 'Declive;Ponte;Desvio Temporário'\n",
      " 'Reta;Declive;Rotatória' 'Em Obras;Curva;Declive;Desvio Temporário'\n",
      " 'Aclive;Viaduto;Interseção de Vias;Curva'\n",
      " 'Retorno Regulamentado;Reta;Interseção de Vias;Rotatória;Declive'\n",
      " 'Curva;Desvio Temporário;Em Obras'\n",
      " 'Interseção de Vias;Em Obras;Desvio Temporário;Reta'\n",
      " 'Reta;Em Obras;Retorno Regulamentado'\n",
      " 'Curva;Declive;Desvio Temporário;Em Obras'\n",
      " 'Em Obras;Viaduto;Declive;Desvio Temporário;Reta'\n",
      " 'Desvio Temporário;Reta;Em Obras;Declive' 'Ponte;Reta;Aclive'\n",
      " 'Rotatória;Desvio Temporário' 'Interseção de Vias;Rotatória;Reta'\n",
      " 'Retorno Regulamentado;Declive;Curva'\n",
      " 'Curva;Retorno Regulamentado;Viaduto'\n",
      " 'Reta;Interseção de Vias;Viaduto;Retorno Regulamentado'\n",
      " 'Desvio Temporário;Viaduto;Em Obras;Aclive;Reta'\n",
      " 'Rotatória;Viaduto;Interseção de Vias'\n",
      " 'Aclive;Interseção de Vias;Rotatória'\n",
      " 'Reta;Interseção de Vias;Viaduto;Rotatória' 'Viaduto;Reta;Túnel'\n",
      " 'Retorno Regulamentado;Declive;Interseção de Vias'\n",
      " 'Declive;Em Obras;Interseção de Vias' 'Rotatória;Em Obras;Viaduto'\n",
      " 'Retorno Regulamentado;Rotatória;Curva'\n",
      " 'Viaduto;Rotatória;Interseção de Vias' 'Retorno Regulamentado;Em Obras'\n",
      " 'Reta;Retorno Regulamentado;Em Obras' 'Em Obras;Aclive;Curva'\n",
      " 'Desvio Temporário;Reta;Ponte' 'Interseção de Vias;Rotatória;Curva'\n",
      " 'Curva;Retorno Regulamentado;Rotatória;Declive'\n",
      " 'Interseção de Vias;Rotatória;Viaduto' 'Rotatória;Viaduto;Curva'\n",
      " 'Em Obras;Retorno Regulamentado' 'Interseção de Vias;Curva;Aclive'\n",
      " 'Reta;Rotatória;Declive' 'Declive;Interseção de Vias;Viaduto;Em Obras'\n",
      " 'Retorno Regulamentado;Reta;Aclive' 'Curva;Desvio Temporário'\n",
      " 'Rotatória;Viaduto;Reta;Interseção de Vias'\n",
      " 'Reta;Rotatória;Interseção de Vias;Aclive'\n",
      " 'Desvio Temporário;Reta;Declive;Em Obras'\n",
      " 'Interseção de Vias;Curva;Retorno Regulamentado'\n",
      " 'Reta;Desvio Temporário;Aclive' 'Retorno Regulamentado;Reta;Rotatória'\n",
      " 'Túnel;Declive;Curva' 'Rotatória;Declive;Curva'\n",
      " 'Curva;Interseção de Vias;Viaduto' 'Interseção de Vias;Viaduto;Rotatória'\n",
      " 'Retorno Regulamentado;Aclive;Reta;Interseção de Vias'\n",
      " 'Declive;Rotatória;Reta;Interseção de Vias'\n",
      " 'Retorno Regulamentado;Viaduto;Interseção de Vias'\n",
      " 'Viaduto;Interseção de Vias;Curva;Declive' 'Reta;Rotatória;Aclive'\n",
      " 'Interseção de Vias;Curva;Em Obras;Viaduto;Declive'\n",
      " 'Rotatória;Declive;Reta' 'Aclive;Reta;Rotatória'\n",
      " 'Interseção de Vias;Rotatória;Retorno Regulamentado'\n",
      " 'Viaduto;Em Obras;Interseção de Vias'\n",
      " 'Interseção de Vias;Viaduto;Declive'\n",
      " 'Rotatória;Interseção de Vias;Retorno Regulamentado'\n",
      " 'Curva;Viaduto;Interseção de Vias'\n",
      " 'Declive;Retorno Regulamentado;Reta;Interseção de Vias'\n",
      " 'Retorno Regulamentado;Rotatória;Aclive;Reta' 'Em Obras;Viaduto;Reta'\n",
      " 'Curva;Interseção de Vias;Em Obras' 'Rotatória;Curva;Declive'\n",
      " 'Declive;Retorno Regulamentado;Rotatória'\n",
      " 'Viaduto;Retorno Regulamentado;Interseção de Vias;Reta'\n",
      " 'Viaduto;Reta;Rotatória;Interseção de Vias;Retorno Regulamentado'\n",
      " 'Rotatória;Em Obras;Retorno Regulamentado']\n",
      "\n",
      "Coluna: uso_solo\n",
      "Valores únicos (2): ['Não' 'Sim']\n",
      "\n",
      "Coluna: pessoas\n",
      "Valores únicos (51): [ 1  7  3  4  2  9  5  8  6 12 10 13 17 19 11 16 39 15 24 22 49 26 55 25\n",
      " 48 20 18 33 14 40 42 52 53 36 45 44 32 57 38 31 21 27 41 30 54 23 46 50\n",
      " 47 43 70]\n",
      "\n",
      "Coluna: mortos\n",
      "Valores únicos (10): [ 0  2  1  5  4  3  6  7 12 19]\n",
      "\n",
      "Coluna: feridos_leves\n",
      "Valores únicos (31): [ 1  2  0  5  3  6  4  8 12 11  7  9 10 34 13 15 35 18 20 44 17 25 31 39\n",
      " 23 21 14 19 22 26 28]\n",
      "\n",
      "Coluna: feridos_graves\n",
      "Valores únicos (16): [ 0  1  2  4  3  5 10 23  6  7 12 15  8  9 13 26]\n",
      "\n",
      "Coluna: ilesos\n",
      "Valores únicos (43): [ 0  5  1  3  2  4 11  7  6  9 13 18  8 14 27 21 47 23 10 53 12 38 15 29\n",
      " 32 19 44 41 16 20 25 17 52 37 50 36 30 26 49 46 35 45 40]\n",
      "\n",
      "Coluna: ignorados\n",
      "Valores únicos (18): [ 0  1 11  2  5  3  4  6  9  7 12 10  8 14 13 43 19 17]\n",
      "\n",
      "Coluna: feridos\n",
      "Valores únicos (35): [ 1  2  0  6  3  5  4  7 10  8 12 11 23  9 14 36 13 15 38 20 27 22 16 21\n",
      " 18 17 45 33 19 42 32 44 24 49 30]\n",
      "\n",
      "Coluna: veiculos\n",
      "Valores únicos (19): [ 1  5 12  3  2  4  6  8 10  7 13  9 11 14 16 17 18 15 23]\n",
      "\n",
      "Coluna: latitude\n",
      "Valores únicos (34057): ['-24,56168114' '-2,508068' '-3,707626' ... '-19,61032522' '-11,12478109'\n",
      " '-10,659681']\n",
      "\n",
      "Coluna: longitude\n",
      "Valores únicos (34063): ['-47,86752174' '-60,036434' '-39,623509' ... '-40,20858272'\n",
      " '-40,06473541' '-37,02849']\n",
      "\n",
      "Coluna: regional\n",
      "Valores únicos (1): [nan]\n",
      "\n",
      "Coluna: delegacia\n",
      "Valores únicos (1): [nan]\n",
      "\n",
      "Coluna: uop\n",
      "Valores únicos (1): [nan]\n",
      "\n"
     ]
    }
   ],
   "source": [
    "verificar_valores_unicos(dados_2021)"
   ]
  },
  {
   "cell_type": "code",
   "execution_count": 11,
   "metadata": {},
   "outputs": [
    {
     "name": "stdout",
     "output_type": "stream",
     "text": [
      "Coluna: id\n",
      "Valores únicos (64606): [405151 405158 405172 ... 614646 617171 621057]\n",
      "\n",
      "Coluna: data_inversa\n",
      "Valores únicos (365): ['2022-01-01' '2022-01-02' '2022-01-03' '2022-01-04' '2022-01-05'\n",
      " '2022-01-06' '2022-01-07' '2022-01-08' '2022-01-09' '2022-01-10'\n",
      " '2022-01-11' '2022-01-12' '2022-01-13' '2022-01-14' '2022-01-15'\n",
      " '2022-01-16' '2022-01-17' '2022-01-18' '2022-01-19' '2022-01-20'\n",
      " '2022-01-21' '2022-01-22' '2022-01-23' '2022-01-24' '2022-01-25'\n",
      " '2022-01-26' '2022-01-27' '2022-01-28' '2022-01-29' '2022-01-30'\n",
      " '2022-01-31' '2022-02-01' '2022-02-02' '2022-02-03' '2022-02-04'\n",
      " '2022-02-05' '2022-02-06' '2022-02-07' '2022-02-08' '2022-02-09'\n",
      " '2022-02-10' '2022-02-11' '2022-02-12' '2022-02-13' '2022-02-14'\n",
      " '2022-02-15' '2022-02-16' '2022-02-17' '2022-02-18' '2022-02-19'\n",
      " '2022-02-20' '2022-02-21' '2022-02-22' '2022-02-23' '2022-02-24'\n",
      " '2022-02-25' '2022-02-26' '2022-02-27' '2022-02-28' '2022-03-01'\n",
      " '2022-03-02' '2022-03-03' '2022-03-04' '2022-03-05' '2022-03-06'\n",
      " '2022-03-07' '2022-03-08' '2022-03-09' '2022-03-10' '2022-03-11'\n",
      " '2022-03-12' '2022-03-13' '2022-03-14' '2022-03-15' '2022-03-16'\n",
      " '2022-03-17' '2022-03-18' '2022-03-19' '2022-03-20' '2022-03-21'\n",
      " '2022-03-22' '2022-03-23' '2022-03-24' '2022-03-25' '2022-03-26'\n",
      " '2022-03-27' '2022-03-28' '2022-03-29' '2022-03-30' '2022-03-31'\n",
      " '2022-04-01' '2022-04-02' '2022-04-03' '2022-04-04' '2022-04-05'\n",
      " '2022-04-06' '2022-04-07' '2022-04-08' '2022-04-09' '2022-04-10'\n",
      " '2022-04-11' '2022-04-12' '2022-04-13' '2022-04-14' '2022-04-15'\n",
      " '2022-04-16' '2022-04-17' '2022-04-18' '2022-04-19' '2022-04-20'\n",
      " '2022-04-21' '2022-04-22' '2022-04-23' '2022-04-24' '2022-04-25'\n",
      " '2022-04-26' '2022-04-27' '2022-04-28' '2022-04-29' '2022-04-30'\n",
      " '2022-05-01' '2022-05-02' '2022-05-03' '2022-05-04' '2022-05-05'\n",
      " '2022-05-06' '2022-05-07' '2022-05-08' '2022-05-09' '2022-05-10'\n",
      " '2022-05-11' '2022-05-12' '2022-05-13' '2022-05-14' '2022-05-15'\n",
      " '2022-05-16' '2022-05-17' '2022-05-18' '2022-05-19' '2022-05-20'\n",
      " '2022-05-21' '2022-05-22' '2022-05-23' '2022-05-24' '2022-05-25'\n",
      " '2022-05-26' '2022-05-27' '2022-05-28' '2022-05-29' '2022-05-30'\n",
      " '2022-05-31' '2022-06-01' '2022-06-02' '2022-06-03' '2022-06-04'\n",
      " '2022-06-05' '2022-06-06' '2022-06-07' '2022-06-08' '2022-06-09'\n",
      " '2022-06-10' '2022-06-11' '2022-06-12' '2022-06-13' '2022-06-14'\n",
      " '2022-06-15' '2022-06-16' '2022-06-17' '2022-06-18' '2022-06-19'\n",
      " '2022-06-20' '2022-06-21' '2022-06-22' '2022-06-23' '2022-06-24'\n",
      " '2022-06-25' '2022-06-26' '2022-06-27' '2022-06-28' '2022-06-29'\n",
      " '2022-06-30' '2022-07-01' '2022-07-02' '2022-07-03' '2022-07-04'\n",
      " '2022-07-05' '2022-07-06' '2022-07-07' '2022-07-08' '2022-07-09'\n",
      " '2022-07-10' '2022-07-11' '2022-07-12' '2022-07-13' '2022-07-14'\n",
      " '2022-07-15' '2022-07-16' '2022-07-17' '2022-07-18' '2022-07-19'\n",
      " '2022-07-20' '2022-07-21' '2022-07-22' '2022-07-23' '2022-07-24'\n",
      " '2022-07-25' '2022-07-26' '2022-07-27' '2022-07-28' '2022-07-29'\n",
      " '2022-07-30' '2022-07-31' '2022-08-01' '2022-08-02' '2022-08-03'\n",
      " '2022-08-04' '2022-08-05' '2022-08-06' '2022-08-07' '2022-08-08'\n",
      " '2022-08-09' '2022-08-10' '2022-08-11' '2022-08-12' '2022-08-13'\n",
      " '2022-08-14' '2022-08-15' '2022-08-16' '2022-08-17' '2022-08-18'\n",
      " '2022-08-19' '2022-08-20' '2022-08-21' '2022-08-22' '2022-08-23'\n",
      " '2022-08-24' '2022-08-25' '2022-08-26' '2022-08-27' '2022-08-28'\n",
      " '2022-08-29' '2022-08-30' '2022-08-31' '2022-09-01' '2022-09-02'\n",
      " '2022-09-03' '2022-09-04' '2022-09-05' '2022-09-06' '2022-09-07'\n",
      " '2022-09-08' '2022-09-09' '2022-09-10' '2022-09-11' '2022-09-12'\n",
      " '2022-09-13' '2022-09-14' '2022-09-15' '2022-09-17' '2022-09-16'\n",
      " '2022-09-18' '2022-09-19' '2022-09-20' '2022-09-21' '2022-09-22'\n",
      " '2022-09-23' '2022-09-24' '2022-09-25' '2022-09-26' '2022-09-27'\n",
      " '2022-09-28' '2022-09-29' '2022-09-30' '2022-10-01' '2022-10-02'\n",
      " '2022-10-03' '2022-10-04' '2022-10-05' '2022-10-06' '2022-10-07'\n",
      " '2022-10-08' '2022-10-09' '2022-10-10' '2022-10-11' '2022-10-12'\n",
      " '2022-10-13' '2022-10-14' '2022-10-15' '2022-10-16' '2022-10-17'\n",
      " '2022-10-18' '2022-10-19' '2022-10-20' '2022-10-21' '2022-10-22'\n",
      " '2022-10-23' '2022-10-24' '2022-10-25' '2022-10-26' '2022-10-27'\n",
      " '2022-10-28' '2022-10-29' '2022-10-30' '2022-10-31' '2022-11-01'\n",
      " '2022-11-02' '2022-11-03' '2022-11-04' '2022-11-05' '2022-11-06'\n",
      " '2022-11-07' '2022-11-08' '2022-11-09' '2022-11-10' '2022-11-11'\n",
      " '2022-11-12' '2022-11-13' '2022-11-14' '2022-11-15' '2022-11-16'\n",
      " '2022-11-17' '2022-11-18' '2022-11-19' '2022-11-20' '2022-11-24'\n",
      " '2022-11-22' '2022-11-21' '2022-11-25' '2022-11-23' '2022-11-26'\n",
      " '2022-11-27' '2022-11-28' '2022-11-29' '2022-11-30' '2022-12-01'\n",
      " '2022-12-02' '2022-12-03' '2022-12-04' '2022-12-05' '2022-12-06'\n",
      " '2022-12-07' '2022-12-08' '2022-12-09' '2022-12-10' '2022-12-11'\n",
      " '2022-12-12' '2022-12-13' '2022-12-14' '2022-12-15' '2022-12-16'\n",
      " '2022-12-17' '2022-12-18' '2022-12-19' '2022-12-20' '2022-12-21'\n",
      " '2022-12-22' '2022-12-23' '2022-12-24' '2022-12-25' '2022-12-26'\n",
      " '2022-12-27' '2022-12-28' '2022-12-29' '2022-12-30' '2022-12-31']\n",
      "\n",
      "Coluna: dia_semana\n",
      "Valores únicos (7): ['sábado' 'domingo' 'segunda-feira' 'terça-feira' 'quarta-feira'\n",
      " 'quinta-feira' 'sexta-feira']\n",
      "\n",
      "Coluna: horario\n",
      "Valores únicos (1388): ['01:35:00' '02:40:00' '05:22:00' ... '13:16:00' '01:59:00' '00:29:00']\n",
      "\n",
      "Coluna: uf\n",
      "Valores únicos (27): ['PI' 'PR' 'MS' 'RJ' 'MG' 'PB' 'SC' 'CE' 'MT' 'PE' 'BA' 'GO' 'SP' 'DF'\n",
      " 'RS' 'ES' 'RR' 'PA' 'RN' 'MA' 'AL' 'SE' 'RO' 'TO' 'AP' 'AM' 'AC']\n",
      "\n",
      "Coluna: br\n",
      "Valores únicos (117): [316 116 163 101  40  70 423 364 365  60 470 381 153 290 158 174 414 146\n",
      " 287 277 369 367 376  50 262 285  10 386 343 135 232 242 282 267  20 230\n",
      " 324 222 428 251 356 487 407 235 110 392 493 280 452 210 359 465 304 373\n",
      " 476 226 468 424 402 447   0 259 408 393 467 419 361 354  80 319 463 104\n",
      " 459 480 435 265 405 472 471 293 412 317 415 349 330  30 420 427 448 155\n",
      " 482 156 401 434 406 272 308 403 425 432 469 410 429 495 430 436 416 421\n",
      " 418 488 433 485 484 122 437 342 422]\n",
      "\n",
      "Coluna: km\n",
      "Valores únicos (7527): ['415' '33' '393' ... '912,2' '723,4' '239,6']\n",
      "\n",
      "Coluna: municipio\n",
      "Valores únicos (1802): ['MARCOLANDIA' 'CAMPINA GRANDE DO SUL' 'NOVA ALVORADA DO SUL' ...\n",
      " 'ANANINDEUA' 'SANTA LUZIA DO PARUA' 'TUCUMA']\n",
      "\n",
      "Coluna: causa_acidente\n",
      "Valores únicos (71): ['Ingestão de álcool pelo condutor'\n",
      " 'Condutor deixou de manter distância do veículo da frente'\n",
      " 'Reação tardia ou ineficiente do condutor'\n",
      " 'Acumulo de água sobre o pavimento' 'Mal súbito do condutor' 'Chuva'\n",
      " 'Ausência de reação do condutor' 'Manobra de mudança de faixa'\n",
      " 'Pista Escorregadia' 'Ausência de sinalização' 'Condutor Dormindo'\n",
      " 'Velocidade Incompatível'\n",
      " 'Acessar a via sem observar a presença dos outros veículos'\n",
      " 'Conversão proibida' 'Transitar na contramão' 'Ultrapassagem Indevida'\n",
      " 'Desrespeitar a preferência no cruzamento' 'Acostamento em desnível'\n",
      " 'Demais falhas mecânicas ou elétricas'\n",
      " 'Carga excessiva e/ou mal acondicionada' 'Problema com o freio'\n",
      " 'Ingestão de álcool e/ou substâncias psicoativas pelo pedestre'\n",
      " 'Curva acentuada' 'Estacionar ou parar em local proibido'\n",
      " 'Avarias e/ou desgaste excessivo no pneu'\n",
      " 'Pedestre cruzava a pista fora da faixa' 'Obstrução na via'\n",
      " 'Acesso irregular' 'Pista esburacada' 'Animais na Pista'\n",
      " 'Falta de acostamento' 'Entrada inopinada do pedestre'\n",
      " 'Acumulo de areia ou detritos sobre o pavimento'\n",
      " 'Pedestre andava na pista' 'Desvio temporário' 'Transitar no acostamento'\n",
      " 'Problema na suspensão' 'Objeto estático sobre o leito carroçável'\n",
      " 'Deficiência do Sistema de Iluminação/Sinalização'\n",
      " 'Trafegar com motocicleta (ou similar) entre as faixas'\n",
      " 'Condutor usando celular'\n",
      " 'Restrição de visibilidade em curvas horizontais'\n",
      " 'Ingestão de álcool ou de substâncias psicoativas pelo pedestre'\n",
      " 'Declive acentuado' 'Frear bruscamente' 'Iluminação deficiente'\n",
      " 'Área urbana sem a presença de local apropriado para a travessia de pedestres'\n",
      " 'Demais Fenômenos da natureza' 'Demais falhas na via'\n",
      " 'Faixas de trânsito com largura insuficiente' 'Obras na pista'\n",
      " 'Retorno proibido' 'Afundamento ou ondulação no pavimento'\n",
      " 'Falta de elemento de contenção que evite a saída do leito carroçável'\n",
      " 'Ingestão de substâncias psicoativas pelo condutor' 'Neblina'\n",
      " 'Condutor desrespeitou a iluminação vermelha do semáforo'\n",
      " 'Sistema de drenagem ineficiente' 'Acumulo de óleo sobre o pavimento'\n",
      " 'Sinalização mal posicionada' 'Pista em desnível' 'Transitar na calçada'\n",
      " 'Fumaça' 'Redutor de velocidade em desacordo'\n",
      " 'Deixar de acionar o farol da motocicleta (ou similar)'\n",
      " 'Restrição de visibilidade em curvas verticais' 'Semáforo com defeito'\n",
      " 'Faróis desregulados' 'Modificação proibida' 'Participar de racha'\n",
      " 'Sinalização encoberta']\n",
      "\n",
      "Coluna: tipo_acidente\n",
      "Valores únicos (16): ['Colisão traseira' 'Tombamento' 'Colisão frontal'\n",
      " 'Saída de leito carroçável' 'Colisão com objeto'\n",
      " 'Colisão lateral mesmo sentido' 'Engavetamento'\n",
      " 'Colisão lateral sentido oposto' 'Colisão transversal' 'Capotamento'\n",
      " 'Queda de ocupante de veículo' 'Incêndio' 'Derramamento de carga'\n",
      " 'Atropelamento de Pedestre' 'Eventos atípicos' 'Atropelamento de Animal']\n",
      "\n",
      "Coluna: classificacao_acidente\n",
      "Valores únicos (4): [nan 'Com Vítimas Fatais' 'Com Vítimas Feridas' 'Sem Vítimas']\n",
      "\n",
      "Coluna: fase_dia\n",
      "Valores únicos (4): ['Plena Noite' 'Pleno dia' 'Amanhecer' 'Anoitecer']\n",
      "\n",
      "Coluna: sentido_via\n",
      "Valores únicos (3): ['Decrescente' 'Crescente' 'Não Informado']\n",
      "\n",
      "Coluna: condicao_metereologica\n",
      "Valores únicos (10): ['Nublado' 'Céu Claro' 'Chuva' 'Garoa/Chuvisco' 'Sol' 'Ignorado'\n",
      " 'Nevoeiro/Neblina' 'Vento' 'Granizo' 'Neve']\n",
      "\n",
      "Coluna: tipo_pista\n",
      "Valores únicos (3): ['Simples' 'Dupla' 'Múltipla']\n",
      "\n",
      "Coluna: tracado_via\n",
      "Valores únicos (440): ['Reta' 'Curva' 'Aclive' 'Declive' 'Declive;Curva'\n",
      " 'Interseção de Vias;Reta;Ponte' 'Ponte' 'Interseção de Vias'\n",
      " 'Curva;Declive' 'Rotatória' 'Aclive;Curva' 'Viaduto' 'Curva;Aclive'\n",
      " 'Curva;Retorno Regulamentado' 'Aclive;Reta' 'Reta;Declive' 'Declive;Reta'\n",
      " 'Em Obras;Reta' 'Retorno Regulamentado' 'Reta;Em Obras' 'Reta;Aclive'\n",
      " 'Retorno Regulamentado;Reta;Aclive' 'Interseção de Vias;Rotatória;Aclive'\n",
      " 'Reta;Ponte;Declive' 'Reta;Declive;Interseção de Vias' 'Reta;Túnel'\n",
      " 'Reta;Viaduto' 'Rotatória;Declive' 'Reta;Retorno Regulamentado'\n",
      " 'Ponte;Curva' 'Retorno Regulamentado;Reta' 'Reta;Interseção de Vias'\n",
      " 'Desvio Temporário;Em Obras' 'Reta;Declive;Ponte' 'Declive;Ponte;Curva'\n",
      " 'Retorno Regulamentado;Em Obras' 'Reta;Declive;Em Obras'\n",
      " 'Desvio Temporário' 'Rotatória;Declive;Curva;Interseção de Vias'\n",
      " 'Desvio Temporário;Em Obras;Curva' 'Declive;Em Obras;Curva'\n",
      " 'Declive;Reta;Retorno Regulamentado'\n",
      " 'Desvio Temporário;Interseção de Vias;Em Obras' 'Reta;Declive;Viaduto'\n",
      " 'Ponte;Reta' 'Curva;Aclive;Ponte' 'Reta;Interseção de Vias;Em Obras'\n",
      " 'Declive;Curva;Ponte' 'Interseção de Vias;Reta'\n",
      " 'Interseção de Vias;Rotatória;Reta' 'Em Obras' 'Reta;Ponte'\n",
      " 'Declive;Ponte' 'Aclive;Reta;Interseção de Vias' 'Viaduto;Reta;Declive'\n",
      " 'Curva;Interseção de Vias;Declive' 'Viaduto;Curva' 'Em Obras;Curva'\n",
      " 'Interseção de Vias;Reta;Rotatória' 'Túnel'\n",
      " 'Rotatória;Interseção de Vias;Viaduto' 'Em Obras;Reta;Interseção de Vias'\n",
      " 'Interseção de Vias;Reta;Declive;Em Obras' 'Aclive;Em Obras;Reta'\n",
      " 'Declive;Viaduto'\n",
      " 'Desvio Temporário;Viaduto;Reta;Em Obras;Interseção de Vias'\n",
      " 'Aclive;Viaduto' 'Viaduto;Reta;Aclive' 'Reta;Em Obras;Declive'\n",
      " 'Em Obras;Desvio Temporário' 'Aclive;Interseção de Vias;Reta'\n",
      " 'Viaduto;Reta' 'Curva;Interseção de Vias' 'Viaduto;Aclive;Reta'\n",
      " 'Interseção de Vias;Curva' 'Rotatória;Reta' 'Curva;Rotatória'\n",
      " 'Em Obras;Declive;Reta' 'Interseção de Vias;Retorno Regulamentado'\n",
      " 'Aclive;Interseção de Vias;Curva' 'Retorno Regulamentado;Curva;Declive'\n",
      " 'Curva;Em Obras' 'Curva;Viaduto'\n",
      " 'Rotatória;Interseção de Vias;Viaduto;Reta'\n",
      " 'Em Obras;Aclive;Curva;Desvio Temporário' 'Ponte;Declive;Curva'\n",
      " 'Aclive;Em Obras' 'Aclive;Reta;Em Obras'\n",
      " 'Interseção de Vias;Reta;Em Obras' 'Reta;Viaduto;Aclive'\n",
      " 'Interseção de Vias;Reta;Declive' 'Curva;Ponte' 'Em Obras;Aclive;Reta'\n",
      " 'Retorno Regulamentado;Interseção de Vias;Reta' 'Curva;Declive;Em Obras'\n",
      " 'Declive;Ponte;Reta' 'Reta;Rotatória'\n",
      " 'Retorno Regulamentado;Reta;Interseção de Vias' 'Declive;Em Obras'\n",
      " 'Curva;Ponte;Declive' 'Interseção de Vias;Declive' 'Ponte;Reta;Aclive'\n",
      " 'Reta;Interseção de Vias;Em Obras;Declive'\n",
      " 'Reta;Interseção de Vias;Viaduto' 'Aclive;Curva;Viaduto'\n",
      " 'Interseção de Vias;Rotatória' 'Declive;Retorno Regulamentado'\n",
      " 'Viaduto;Aclive;Curva' 'Curva;Viaduto;Declive'\n",
      " 'Reta;Em Obras;Desvio Temporário'\n",
      " 'Reta;Rotatória;Desvio Temporário;Interseção de Vias'\n",
      " 'Viaduto;Interseção de Vias' 'Viaduto;Rotatória' 'Curva;Declive;Viaduto'\n",
      " 'Viaduto;Aclive' 'Ponte;Aclive' 'Interseção de Vias;Viaduto'\n",
      " 'Aclive;Ponte;Reta' 'Curva;Declive;Ponte' 'Retorno Regulamentado;Curva'\n",
      " 'Rotatória;Viaduto;Interseção de Vias' 'Declive;Interseção de Vias;Reta'\n",
      " 'Curva;Desvio Temporário' 'Retorno Regulamentado;Rotatória'\n",
      " 'Reta;Aclive;Viaduto' 'Aclive;Curva;Interseção de Vias'\n",
      " 'Desvio Temporário;Aclive;Em Obras;Reta' 'Aclive;Ponte;Viaduto'\n",
      " 'Viaduto;Em Obras' 'Curva;Viaduto;Interseção de Vias;Rotatória'\n",
      " 'Ponte;Declive;Reta' 'Curva;Desvio Temporário;Declive'\n",
      " 'Declive;Reta;Viaduto' 'Declive;Viaduto;Reta'\n",
      " 'Rotatória;Interseção de Vias' 'Reta;Desvio Temporário'\n",
      " 'Aclive;Reta;Retorno Regulamentado'\n",
      " 'Declive;Reta;Retorno Regulamentado;Interseção de Vias'\n",
      " 'Reta;Interseção de Vias;Rotatória'\n",
      " 'Rotatória;Túnel;Em Obras;Ponte;Declive;Viaduto;Retorno Regulamentado;Curva'\n",
      " 'Em Obras;Desvio Temporário;Curva'\n",
      " 'Viaduto;Em Obras;Curva;Interseção de Vias;Desvio Temporário;Rotatória'\n",
      " 'Curva;Desvio Temporário;Aclive;Em Obras' 'Em Obras;Curva;Declive'\n",
      " 'Em Obras;Desvio Temporário;Reta' 'Declive;Interseção de Vias'\n",
      " 'Ponte;Curva;Declive' 'Em Obras;Declive;Curva' 'Aclive;Viaduto;Reta'\n",
      " 'Interseção de Vias;Declive;Retorno Regulamentado'\n",
      " 'Interseção de Vias;Viaduto;Curva;Aclive'\n",
      " 'Declive;Reta;Interseção de Vias' 'Reta;Interseção de Vias;Aclive'\n",
      " 'Ponte;Declive' 'Aclive;Interseção de Vias'\n",
      " 'Curva;Declive;Retorno Regulamentado' 'Aclive;Ponte'\n",
      " 'Reta;Interseção de Vias;Declive' 'Rotatória;Em Obras;Reta'\n",
      " 'Interseção de Vias;Curva;Aclive' 'Reta;Aclive;Retorno Regulamentado'\n",
      " 'Retorno Regulamentado;Declive' 'Desvio Temporário;Reta;Declive;Em Obras'\n",
      " 'Curva;Túnel' 'Em Obras;Reta;Aclive'\n",
      " 'Interseção de Vias;Em Obras;Reta;Viaduto'\n",
      " 'Desvio Temporário;Curva;Em Obras'\n",
      " 'Reta;Retorno Regulamentado;Declive;Interseção de Vias'\n",
      " 'Declive;Reta;Ponte' 'Reta;Em Obras;Interseção de Vias'\n",
      " 'Retorno Regulamentado;Reta;Declive' 'Reta;Desvio Temporário;Em Obras'\n",
      " 'Reta;Aclive;Em Obras' 'Em Obras;Reta;Declive'\n",
      " 'Interseção de Vias;Aclive;Curva' 'Aclive;Desvio Temporário;Curva'\n",
      " 'Reta;Retorno Regulamentado;Interseção de Vias'\n",
      " 'Aclive;Retorno Regulamentado'\n",
      " 'Rotatória;Curva;Declive;Interseção de Vias' 'Declive;Curva;Em Obras'\n",
      " 'Interseção de Vias;Reta;Aclive' 'Interseção de Vias;Aclive'\n",
      " 'Declive;Curva;Viaduto' 'Reta;Viaduto;Declive' 'Ponte;Interseção de Vias'\n",
      " 'Reta;Aclive;Interseção de Vias;Viaduto' 'Em Obras;Interseção de Vias'\n",
      " 'Em Obras;Viaduto;Reta' 'Curva;Interseção de Vias;Aclive'\n",
      " 'Viaduto;Interseção de Vias;Curva;Aclive'\n",
      " 'Reta;Rotatória;Interseção de Vias' 'Viaduto;Retorno Regulamentado;Curva'\n",
      " 'Reta;Desvio Temporário;Interseção de Vias;Ponte;Rotatória;Em Obras'\n",
      " 'Curva;Viaduto;Interseção de Vias' 'Interseção de Vias;Curva;Declive'\n",
      " 'Interseção de Vias;Reta;Retorno Regulamentado'\n",
      " 'Ponte;Em Obras;Desvio Temporário' 'Desvio Temporário;Reta'\n",
      " 'Retorno Regulamentado;Interseção de Vias'\n",
      " 'Interseção de Vias;Em Obras;Rotatória' 'Declive;Viaduto;Curva'\n",
      " 'Reta;Aclive;Ponte' 'Aclive;Curva;Em Obras' 'Reta;Ponte;Em Obras'\n",
      " 'Curva;Declive;Em Obras;Desvio Temporário'\n",
      " 'Rotatória;Aclive;Reta;Interseção de Vias'\n",
      " 'Viaduto;Curva;Interseção de Vias;Rotatória' 'Curva;Aclive;Viaduto'\n",
      " 'Rotatória;Curva' 'Curva;Em Obras;Declive' 'Reta;Ponte;Aclive'\n",
      " 'Ponte;Em Obras;Reta' 'Rotatória;Interseção de Vias;Reta'\n",
      " 'Em Obras;Aclive' 'Curva;Aclive;Em Obras'\n",
      " 'Ponte;Em Obras;Rotatória;Desvio Temporário;Curva;Aclive;Interseção de Vias;Retorno Regulamentado;Viaduto;Túnel'\n",
      " 'Rotatória;Retorno Regulamentado;Curva' 'Reta;Aclive;Interseção de Vias'\n",
      " 'Retorno Regulamentado;Declive;Curva' 'Rotatória;Viaduto'\n",
      " 'Em Obras;Reta;Desvio Temporário'\n",
      " 'Em Obras;Reta;Interseção de Vias;Aclive' 'Interseção de Vias;Em Obras'\n",
      " 'Em Obras;Viaduto;Desvio Temporário;Curva'\n",
      " 'Desvio Temporário;Em Obras;Reta'\n",
      " 'Retorno Regulamentado;Viaduto;Curva;Rotatória;Interseção de Vias'\n",
      " 'Desvio Temporário;Curva;Declive;Em Obras'\n",
      " 'Retorno Regulamentado;Curva;Aclive'\n",
      " 'Retorno Regulamentado;Rotatória;Declive;Reta'\n",
      " 'Interseção de Vias;Curva;Desvio Temporário;Em Obras'\n",
      " 'Rotatória;Retorno Regulamentado;Interseção de Vias'\n",
      " 'Reta;Em Obras;Aclive' 'Viaduto;Túnel;Curva;Interseção de Vias'\n",
      " 'Retorno Regulamentado;Viaduto;Curva'\n",
      " 'Em Obras;Declive;Desvio Temporário' 'Reta;Declive;Retorno Regulamentado'\n",
      " 'Em Obras;Desvio Temporário;Rotatória'\n",
      " 'Em Obras;Desvio Temporário;Reta;Declive'\n",
      " 'Curva;Declive;Interseção de Vias' 'Curva;Desvio Temporário;Em Obras'\n",
      " 'Interseção de Vias;Em Obras;Viaduto' 'Desvio Temporário;Reta;Em Obras'\n",
      " 'Declive;Interseção de Vias;Viaduto' 'Interseção de Vias;Declive;Curva'\n",
      " 'Reta;Desvio Temporário;Declive'\n",
      " 'Em Obras;Curva;Rotatória;Interseção de Vias' 'Viaduto;Curva;Declive'\n",
      " 'Reta;Retorno Regulamentado;Declive'\n",
      " 'Interseção de Vias;Retorno Regulamentado;Aclive;Viaduto'\n",
      " 'Declive;Desvio Temporário;Reta;Em Obras'\n",
      " 'Curva;Aclive;Retorno Regulamentado'\n",
      " 'Curva;Retorno Regulamentado;Interseção de Vias'\n",
      " 'Desvio Temporário;Declive;Em Obras;Reta'\n",
      " 'Desvio Temporário;Curva;Declive' 'Interseção de Vias;Rotatória;Viaduto'\n",
      " 'Interseção de Vias;Declive;Reta' 'Declive;Interseção de Vias;Curva'\n",
      " 'Desvio Temporário;Curva;Aclive;Em Obras'\n",
      " 'Interseção de Vias;Em Obras;Reta'\n",
      " 'Declive;Reta;Em Obras;Interseção de Vias'\n",
      " 'Retorno Regulamentado;Em Obras;Curva'\n",
      " 'Interseção de Vias;Reta;Aclive;Viaduto'\n",
      " 'Viaduto;Interseção de Vias;Declive' 'Interseção de Vias;Ponte'\n",
      " 'Curva;Em Obras;Desvio Temporário' 'Declive;Interseção de Vias;Rotatória'\n",
      " 'Rotatória;Aclive' 'Viaduto;Declive;Interseção de Vias' 'Túnel;Curva'\n",
      " 'Reta;Retorno Regulamentado;Aclive' 'Curva;Em Obras;Interseção de Vias'\n",
      " 'Em Obras;Ponte;Curva' 'Declive;Desvio Temporário;Reta'\n",
      " 'Reta;Viaduto;Interseção de Vias'\n",
      " 'Reta;Retorno Regulamentado;Aclive;Interseção de Vias'\n",
      " 'Interseção de Vias;Aclive;Reta' 'Em Obras;Curva;Desvio Temporário'\n",
      " 'Declive;Retorno Regulamentado;Reta' 'Viaduto;Declive;Curva'\n",
      " 'Declive;Retorno Regulamentado;Curva'\n",
      " 'Curva;Interseção de Vias;Rotatória'\n",
      " 'Declive;Desvio Temporário;Em Obras;Reta' 'Rotatória;Em Obras'\n",
      " 'Viaduto;Curva;Interseção de Vias' 'Em Obras;Declive'\n",
      " 'Interseção de Vias;Reta;Viaduto' 'Retorno Regulamentado;Aclive;Reta'\n",
      " 'Retorno Regulamentado;Declive;Reta'\n",
      " 'Retorno Regulamentado;Interseção de Vias;Rotatória'\n",
      " 'Interseção de Vias;Curva;Túnel;Aclive' 'Curva;Rotatória;Aclive'\n",
      " 'Aclive;Em Obras;Reta;Interseção de Vias' 'Em Obras;Reta;Viaduto'\n",
      " 'Viaduto;Interseção de Vias;Reta' 'Desvio Temporário;Aclive'\n",
      " 'Aclive;Viaduto;Curva' 'Interseção de Vias;Em Obras;Aclive;Curva'\n",
      " 'Em Obras;Interseção de Vias;Curva'\n",
      " 'Interseção de Vias;Viaduto;Aclive;Reta'\n",
      " 'Curva;Viaduto;Declive;Interseção de Vias;Retorno Regulamentado'\n",
      " 'Rotatória;Interseção de Vias;Retorno Regulamentado;Reta'\n",
      " 'Interseção de Vias;Viaduto;Reta;Aclive' 'Viaduto;Declive'\n",
      " 'Rotatória;Curva;Aclive' 'Reta;Rotatória;Declive;Retorno Regulamentado'\n",
      " 'Em Obras;Interseção de Vias;Reta'\n",
      " 'Rotatória;Em Obras;Retorno Regulamentado;Interseção de Vias'\n",
      " 'Declive;Desvio Temporário' 'Reta;Em Obras;Aclive;Interseção de Vias'\n",
      " 'Rotatória;Viaduto;Curva;Aclive' 'Viaduto;Declive;Reta;Em Obras'\n",
      " 'Reta;Túnel;Aclive;Interseção de Vias'\n",
      " 'Retorno Regulamentado;Interseção de Vias;Curva'\n",
      " 'Rotatória;Retorno Regulamentado;Reta' 'Ponte;Curva;Declive;Viaduto'\n",
      " 'Reta;Túnel;Em Obras' 'Aclive;Reta;Ponte'\n",
      " 'Aclive;Curva;Retorno Regulamentado' 'Declive;Reta;Rotatória'\n",
      " 'Declive;Curva;Retorno Regulamentado' 'Aclive;Ponte;Curva'\n",
      " 'Aclive;Reta;Viaduto'\n",
      " 'Interseção de Vias;Rotatória;Desvio Temporário;Em Obras;Retorno Regulamentado;Aclive;Túnel;Viaduto;Ponte;Reta'\n",
      " 'Aclive;Reta;Rotatória'\n",
      " 'Retorno Regulamentado;Em Obras;Desvio Temporário'\n",
      " 'Rotatória;Retorno Regulamentado' 'Reta;Aclive;Desvio Temporário'\n",
      " 'Aclive;Viaduto;Retorno Regulamentado;Curva'\n",
      " 'Curva;Rotatória;Interseção de Vias'\n",
      " 'Em Obras;Reta;Retorno Regulamentado'\n",
      " 'Rotatória;Retorno Regulamentado;Viaduto;Interseção de Vias'\n",
      " 'Retorno Regulamentado;Viaduto'\n",
      " 'Desvio Temporário;Em Obras;Interseção de Vias'\n",
      " 'Desvio Temporário;Interseção de Vias' 'Declive;Rotatória'\n",
      " 'Retorno Regulamentado;Rotatória;Em Obras;Reta'\n",
      " 'Interseção de Vias;Curva;Retorno Regulamentado'\n",
      " 'Desvio Temporário;Em Obras;Declive'\n",
      " 'Reta;Interseção de Vias;Retorno Regulamentado' 'Em Obras;Rotatória;Reta'\n",
      " 'Desvio Temporário;Curva' 'Declive;Curva;Interseção de Vias'\n",
      " 'Túnel;Declive;Reta' 'Curva;Aclive;Interseção de Vias'\n",
      " 'Interseção de Vias;Desvio Temporário;Reta;Em Obras'\n",
      " 'Em Obras;Retorno Regulamentado;Reta;Interseção de Vias'\n",
      " 'Reta;Em Obras;Rotatória' 'Rotatória;Reta;Desvio Temporário'\n",
      " 'Rotatória;Curva;Viaduto;Interseção de Vias'\n",
      " 'Em Obras;Interseção de Vias;Aclive'\n",
      " 'Desvio Temporário;Reta;Interseção de Vias' 'Viaduto;Declive;Reta'\n",
      " 'Curva;Viaduto;Retorno Regulamentado' 'Curva;Viaduto;Aclive'\n",
      " 'Retorno Regulamentado;Rotatória;Reta'\n",
      " 'Retorno Regulamentado;Aclive;Reta;Interseção de Vias'\n",
      " 'Em Obras;Declive;Desvio Temporário;Reta'\n",
      " 'Interseção de Vias;Curva;Viaduto' 'Retorno Regulamentado;Aclive;Curva'\n",
      " 'Rotatória;Reta;Retorno Regulamentado' 'Viaduto;Rotatória;Reta'\n",
      " 'Interseção de Vias;Rotatória;Declive'\n",
      " 'Em Obras;Rotatória;Interseção de Vias;Aclive;Reta;Viaduto;Retorno Regulamentado;Ponte;Túnel;Desvio Temporário'\n",
      " 'Reta;Em Obras;Desvio Temporário;Aclive'\n",
      " 'Retorno Regulamentado;Desvio Temporário;Em Obras;Reta'\n",
      " 'Interseção de Vias;Aclive;Viaduto;Reta'\n",
      " 'Interseção de Vias;Reta;Viaduto;Declive;Retorno Regulamentado'\n",
      " 'Reta;Em Obras;Retorno Regulamentado' 'Viaduto;Reta;Interseção de Vias'\n",
      " 'Desvio Temporário;Reta;Aclive;Ponte;Em Obras'\n",
      " 'Interseção de Vias;Viaduto;Rotatória' 'Rotatória;Reta;Declive'\n",
      " 'Curva;Retorno Regulamentado;Aclive'\n",
      " 'Interseção de Vias;Retorno Regulamentado;Reta'\n",
      " 'Retorno Regulamentado;Reta;Em Obras' 'Desvio Temporário;Reta;Declive'\n",
      " 'Reta;Rotatória;Viaduto' 'Em Obras;Retorno Regulamentado'\n",
      " 'Aclive;Viaduto;Interseção de Vias;Reta' 'Declive;Reta;Em Obras'\n",
      " 'Rotatória;Interseção de Vias;Declive'\n",
      " 'Em Obras;Retorno Regulamentado;Declive;Reta'\n",
      " 'Reta;Declive;Interseção de Vias;Retorno Regulamentado'\n",
      " 'Declive;Em Obras;Viaduto' 'Aclive;Rotatória;Reta'\n",
      " 'Túnel;Aclive;Interseção de Vias;Em Obras;Desvio Temporário;Rotatória;Retorno Regulamentado;Viaduto;Curva'\n",
      " 'Interseção de Vias;Retorno Regulamentado;Viaduto'\n",
      " 'Declive;Rotatória;Reta' 'Aclive;Retorno Regulamentado;Curva'\n",
      " 'Retorno Regulamentado;Reta;Rotatória' 'Reta;Viaduto;Em Obras'\n",
      " 'Declive;Em Obras;Reta' 'Reta;Em Obras;Viaduto'\n",
      " 'Retorno Regulamentado;Interseção de Vias;Reta;Declive'\n",
      " 'Retorno Regulamentado;Aclive' 'Desvio Temporário;Rotatória'\n",
      " 'Ponte;Em Obras;Retorno Regulamentado;Declive'\n",
      " 'Viaduto;Retorno Regulamentado' 'Curva;Aclive;Rotatória'\n",
      " 'Reta;Em Obras;Ponte' 'Rotatória;Viaduto;Reta'\n",
      " 'Viaduto;Em Obras;Reta;Retorno Regulamentado'\n",
      " 'Declive;Interseção de Vias;Curva;Retorno Regulamentado'\n",
      " 'Interseção de Vias;Reta;Viaduto;Declive'\n",
      " 'Retorno Regulamentado;Desvio Temporário;Curva;Em Obras;Interseção de Vias;Túnel;Rotatória;Viaduto;Ponte;Declive'\n",
      " 'Rotatória;Interseção de Vias;Retorno Regulamentado'\n",
      " 'Declive;Viaduto;Em Obras;Reta' 'Aclive;Rotatória;Curva'\n",
      " 'Rotatória;Aclive;Reta'\n",
      " 'Interseção de Vias;Viaduto;Retorno Regulamentado'\n",
      " 'Reta;Ponte;Desvio Temporário' 'Desvio Temporário;Declive;Em Obras'\n",
      " 'Reta;Aclive;Viaduto;Desvio Temporário;Em Obras' 'Ponte;Reta;Declive'\n",
      " 'Em Obras;Viaduto;Aclive;Reta' 'Viaduto;Rotatória;Interseção de Vias'\n",
      " 'Declive;Interseção de Vias;Curva;Viaduto'\n",
      " 'Viaduto;Retorno Regulamentado;Reta;Declive' 'Em Obras;Rotatória'\n",
      " 'Viaduto;Túnel;Interseção de Vias;Reta;Declive;Rotatória'\n",
      " 'Ponte;Em Obras' 'Interseção de Vias;Viaduto;Curva'\n",
      " 'Curva;Em Obras;Aclive' 'Reta;Viaduto;Interseção de Vias;Rotatória'\n",
      " 'Reta;Desvio Temporário;Aclive;Em Obras' 'Viaduto;Curva;Aclive'\n",
      " 'Aclive;Interseção de Vias;Rotatória'\n",
      " 'Aclive;Interseção de Vias;Retorno Regulamentado'\n",
      " 'Reta;Retorno Regulamentado;Rotatória' 'Viaduto;Reta;Em Obras'\n",
      " 'Em Obras;Interseção de Vias;Declive'\n",
      " 'Interseção de Vias;Em Obras;Reta;Rotatória;Viaduto'\n",
      " 'Desvio Temporário;Curva;Interseção de Vias' 'Em Obras;Viaduto'\n",
      " 'Viaduto;Em Obras;Desvio Temporário' 'Rotatória;Reta;Interseção de Vias'\n",
      " 'Reta;Rotatória;Aclive'\n",
      " 'Reta;Declive;Retorno Regulamentado;Interseção de Vias'\n",
      " 'Retorno Regulamentado;Viaduto;Interseção de Vias;Declive'\n",
      " 'Rotatória;Viaduto;Interseção de Vias;Reta']\n",
      "\n",
      "Coluna: uso_solo\n",
      "Valores únicos (2): ['Sim' 'Não']\n",
      "\n",
      "Coluna: pessoas\n",
      "Valores únicos (58): [ 3  2  4  5  7  6  1 16 53  9  8 19 11 10 14 24 13 22 41 20 12 15 38 33\n",
      " 27 21 32 43 28 17 30 49 44 52 18 40 42 35 31 25 29 51 46 23 48 47 36 55\n",
      " 75 34 56 60 37 26 70 50 45 39]\n",
      "\n",
      "Coluna: mortos\n",
      "Valores únicos (8): [0 1 2 3 4 5 6 7]\n",
      "\n",
      "Coluna: feridos_leves\n",
      "Valores únicos (31): [ 1  0  2  9  3  4 29  6  5  8  7 10 12 13 11 14 16 21 18 15 17 22 20 25\n",
      " 49 23 50 32 30 33 28]\n",
      "\n",
      "Coluna: feridos_graves\n",
      "Valores únicos (15): [ 0  1  4  2  6  3  5  8  7 10 11 31  9 15 14]\n",
      "\n",
      "Coluna: ilesos\n",
      "Valores únicos (50): [ 1  0  3  2  4 23  5 13  6  7 14 22 11  8  9 36 21 16 10 40 20 25 29 47\n",
      " 15 46 12 38 31 32 26 19 51 17 45 34 43 35 49 30 28 53 24 41 37 18 56 39\n",
      " 42 27]\n",
      "\n",
      "Coluna: ignorados\n",
      "Valores únicos (18): [ 1  0  3  4  2  5 12 13  6  9  7  8 14 10 11 24 26 54]\n",
      "\n",
      "Coluna: feridos\n",
      "Valores únicos (35): [ 1  0  2 10  3  5  4 29  6  9  7  8 11 12 14 16 33 19 17 20 18 13 26 15\n",
      " 23 22 30 55 54 51 35 44 25 28 40]\n",
      "\n",
      "Coluna: veiculos\n",
      "Valores únicos (18): [ 3  2  1  4  5  6  9  7 13  8 14 11 10 12 16 22 28 15]\n",
      "\n",
      "Coluna: latitude\n",
      "Valores únicos (34699): ['-7,43280012' '-25,114403' '-21,228445' ... '-15,87860466' '-26,3385056'\n",
      " '-4,781428']\n",
      "\n",
      "Coluna: longitude\n",
      "Valores únicos (34692): ['-40,68261908' '-48,8467554' '-54,456296' ... '-52,28657484'\n",
      " '-50,01471809' '-47,18019']\n",
      "\n",
      "Coluna: regional\n",
      "Valores únicos (28): ['SPRF-PI' 'SPRF-PR' 'SPRF-MS' 'SPRF-RJ' 'SPRF-MG' 'SPRF-CE' 'SPRF-SC'\n",
      " 'SPRF-MT' 'SPRF-AL' 'SPRF-BA' 'SPRF-GO' 'SPRF-SP' 'SPRF-DF' 'SPRF-RS'\n",
      " 'SPRF-ES' 'SPRF-RR' 'SPRF-PE' 'SPRF-PA' 'SPRF-RN' 'SPRF-MA' 'SPRF-SE'\n",
      " 'SPRF-PB' 'SPRF-RO' 'SPRF-TO' 'SPRF-AP' 'SPRF-AM' 'SPRF-AC' nan]\n",
      "\n",
      "Coluna: delegacia\n",
      "Valores únicos (154): ['DEL04-PI' 'DEL01-PR' 'DEL02-MS' 'DEL03-RJ' 'DEL02-MG' 'DEL05-CE'\n",
      " 'DEL07-SC' 'DEL04-SC' 'DEL07-MT' 'DEL03-AL' 'DEL01-MT' 'DEL01-BA'\n",
      " 'DEL12-MG' 'DEL04-GO' 'DEL02-SP' 'DEL05-MT' 'DEL05-MG' 'DEL02-BA'\n",
      " 'DEL05-SC' 'DEL07-MG' 'DEL03-SC' 'DEL06-SC' 'DEL03-DF' 'DEL16-MG'\n",
      " 'DEL05-SP' 'DEL02-PR' 'DEL02-RS' 'DEL02-SC' 'DEL02-ES' 'DEL01-RJ'\n",
      " 'DEL02-GO' 'DEL01-GO' 'DEL04-SP' 'DEL06-MG' 'DEL01-RR' 'DEL05-PE'\n",
      " 'DEL07-GO' 'DEL09-MG' 'DEL04-MG' 'DEL14-MG' 'DEL09-MS' 'DEL06-MT'\n",
      " 'DEL01-SC' 'DEL07-PR' 'DEL09-RS' 'DEL07-RS' 'DEL03-GO' 'DEL04-PR'\n",
      " 'DEL07-SP' 'DEL03-BA' 'DEL09-BA' 'DEL03-PR' 'DEL13-MG' 'DEL07-RJ'\n",
      " 'DEL01-ES' 'DEL08-RS' 'DEL02-PA' 'DEL01-MG' 'DEL01-RN' 'DEL03-MA'\n",
      " 'DEL07-BA' 'DEL01-PI' 'DEL02-SE' 'DEL06-PR' 'DEL04-RS' 'DEL02-AL'\n",
      " 'DEL01-MA' 'DEL08-PR' 'DEL06-MS' 'DEL03-SP' 'DEL04-MT' 'DEL04-ES'\n",
      " 'DEL03-PE' 'DEL06-BA' 'DEL03-ES' 'DEL03-PI' 'DEL17-MG' 'DEL01-MS'\n",
      " 'DEL01-CE' 'DEL01-AL' 'DEL12-RS' 'DEL03-MT' 'DEL03-PB' 'DEL01-SP'\n",
      " 'DEL05-PA' 'DEL02-DF' 'DEL04-MA' 'DEL01-SE' 'DEL08-MG' 'DEL02-RJ'\n",
      " 'DEL01-PE' 'DEL08-RJ' 'DEL08-SP' 'DEL04-MS' 'DEL03-MG' 'DEL05-GO'\n",
      " 'DEL10-RS' 'DEL15-MG' 'DEL03-PA' 'DEL01-RO' 'DEL03-RS' 'DEL01-PB'\n",
      " 'DEL06-SP' 'DEL09-PR' 'DEL04-BA' 'DEL02-TO' 'DEL09-SP' 'DEL03-RO'\n",
      " 'DEL10-MG' 'DEL01-AP' 'DEL01-TO' 'DEL08-BA' 'DEL02-MT' 'DEL11-MG'\n",
      " 'DEL05-PR' 'DEL03-MS' 'DEL11-RS' 'DEL01-DF' 'DEL05-BA' 'DEL06-GO'\n",
      " 'DEL02-CE' 'DEL03-CE' 'DEL05-RS' 'DEL05-RJ' 'DEL10-BA' 'DEL04-CE'\n",
      " 'DEL08-MS' 'DEL07-MS' 'DEL02-PB' 'DEL05-PI' 'DEL02-MA' 'DEL02-RO'\n",
      " 'DEL01-RS' 'DEL04-RO' 'DEL01-AM' 'DEL04-RJ' 'DEL06-PE' 'DEL13-RS'\n",
      " 'DEL06-RJ' 'DEL02-PE' 'DEL04-RN' 'DEL06-RS' 'DEL01-AC' 'DEL01-PA'\n",
      " 'DEL02-RN' 'DEL05-MS' 'DEL04-PE' 'DEL05-MA' 'DEL03-RN' 'DEL02-PI' nan\n",
      " 'DEL04-PA' 'DEL06-MA' 'SEOP-AP']\n",
      "\n",
      "Coluna: uop\n",
      "Valores únicos (395): ['UOP03-DEL04-PI' 'UOP02-DEL01-PR' 'UOP01-DEL02-MS' 'UOP03-DEL03-RJ'\n",
      " 'UOP01-DEL02-MG' 'UOP03-DEL05-CE' 'UOP03-DEL07-SC' 'UOP03-DEL04-SC'\n",
      " 'UOP01-DEL05-CE' 'UOP01-DEL07-MT' 'UOP02-DEL03-AL' 'UOP02-DEL01-MT'\n",
      " 'UOP04-DEL01-BA' 'UOP01-DEL12-MG' 'UOP01-DEL04-GO' 'UOP01-DEL02-SP'\n",
      " 'UOP03-DEL01-BA' 'UOP02-DEL05-MT' 'UOP01-DEL05-MG' 'UOP01-DEL02-BA'\n",
      " 'UOP03-DEL05-SC' 'UOP06-DEL07-SC' 'UOP02-DEL07-MG' 'UOP02-DEL03-SC'\n",
      " 'UOP02-DEL06-SC' 'UOP01-DEL03-DF' 'UOP01-DEL16-MG' 'UOP02-DEL05-SP'\n",
      " 'UOP03-DEL02-PR' 'UOP01-DEL02-RS' 'UOP02-DEL07-MT' 'UOP04-DEL04-SC'\n",
      " 'UOP01-DEL02-SC' 'UOP01-DEL02-ES' 'UOP03-DEL01-RJ' 'UOP01-DEL02-GO'\n",
      " 'UOP02-DEL01-GO' 'UOP01-DEL04-SP' 'UOP01-DEL06-MG' 'UOP01-DEL01-RR'\n",
      " 'UOP01-DEL05-PE' 'UOP02-DEL07-GO' 'UOP01-DEL09-MG' 'UOP02-DEL04-MG'\n",
      " 'UOP02-DEL14-MG' 'UOP01-DEL09-MS' 'UOP01-DEL06-MT' 'UOP02-DEL01-SC'\n",
      " 'UOP04-DEL07-PR' 'UOP01-DEL09-RS' 'UOP05-DEL01-PR' 'UOP03-DEL07-RS'\n",
      " 'UOP02-DEL03-GO' 'UOP03-DEL02-RS' 'UOP03-DEL04-PR' 'UOP01-DEL07-SP'\n",
      " 'UOP02-DEL03-BA' 'UOP01-DEL09-BA' 'UOP02-DEL03-PR' 'UOP01-DEL13-MG'\n",
      " 'UOP03-DEL06-MG' 'UOP01-DEL07-RJ' 'UOP02-DEL01-ES' 'UOP03-DEL08-RS'\n",
      " 'UOP02-DEL02-PA' 'UOP01-DEL03-GO' 'UOP03-DEL01-MG' 'UOP01-DEL01-RN'\n",
      " 'UOP02-DEL03-MA' 'UOP01-DEL05-SP' 'UOP01-DEL08-RS' 'UOP01-DEL07-BA'\n",
      " 'UOP01-DEL01-PI' 'UOP03-DEL02-SE' 'UOP02-DEL06-PR' 'UOP02-DEL04-RS'\n",
      " 'UOP01-DEL01-ES' 'UOP01-DEL01-MT' 'UOP02-DEL04-SC' 'UOP02-DEL02-AL'\n",
      " 'UOP01-DEL01-MA' 'UOP01-DEL03-PR' 'UOP01-DEL08-PR' 'UOP01-DEL01-MG'\n",
      " 'UOP01-DEL06-MS' 'UOP01-DEL03-SP' 'UOP01-DEL04-MT' 'UOP02-DEL04-ES'\n",
      " 'UOP02-DEL03-PE' 'UOP02-DEL06-BA' 'UOP02-DEL03-ES' 'UOP01-DEL04-SC'\n",
      " 'UOP01-DEL03-PI' 'UOP03-DEL01-SC' 'UOP01-DEL17-MG' 'UOP01-DEL03-SC'\n",
      " 'UOP04-DEL01-PR' 'UOP01-DEL01-MS' 'UOP05-DEL07-SC' 'UOP02-DEL01-CE'\n",
      " 'UOP02-DEL02-SE' 'UOP01-DEL01-AL' 'UOP02-DEL02-PR' 'UOP01-DEL04-MG'\n",
      " 'UOP01-DEL01-RJ' 'UOP02-DEL01-PI' 'UOP01-DEL12-RS' 'UOP01-DEL14-MG'\n",
      " 'UOP02-DEL03-MT' 'UOP05-DEL08-RS' 'UOP01-DEL03-PB' 'UOP01-DEL01-SP'\n",
      " 'UOP03-DEL16-MG' 'UOP01-DEL05-PA' 'UOP01-DEL02-DF' 'UOP01-DEL01-BA'\n",
      " 'UOP03-DEL04-MA' 'UOP01-DEL01-SE' 'UOP03-DEL08-MG' 'UOP02-DEL02-RJ'\n",
      " 'UOP02-DEL07-RJ' 'UOP02-DEL04-SP' 'UOP01-DEL01-PE' 'UOP01-DEL08-RJ'\n",
      " 'UOP02-DEL08-SP' 'UOP03-DEL03-PR' 'UOP02-DEL03-PI' 'UOP03-DEL05-PE'\n",
      " 'UOP01-DEL07-SC' 'UOP03-DEL02-SC' 'UOP04-DEL04-MS' 'UOP02-DEL03-MG'\n",
      " 'UOP01-DEL05-MT' 'UOP01-DEL01-GO' 'UOP01-DEL05-GO' 'UOP02-DEL10-RS'\n",
      " 'UOP03-DEL03-MG' 'UOP03-DEL15-MG' 'UOP01-DEL03-PA' 'UOP01-DEL01-RO'\n",
      " 'UOP02-DEL03-RS' 'UOP01-DEL03-MG' 'UOP02-DEL07-SC' 'NPF/DEL06-MT'\n",
      " 'UOP01-DEL01-PB' 'UOP03-DEL08-RJ' 'UOP01-DEL06-SP' 'UOP02-DEL01-MG'\n",
      " 'UOP03-DEL09-PR' 'UOP02-DEL04-BA' 'UOP02-DEL02-TO' 'UOP02-DEL07-RS'\n",
      " 'UOP01-DEL01-SC' 'UOP01-DEL03-ES' 'UOP01-DEL09-SP' 'UOP02-DEL03-RO'\n",
      " 'UOP02-DEL01-PE' 'UOP03-DEL02-RJ' 'UOP02-DEL06-MS' 'UOP03-DEL06-SC'\n",
      " 'UOP01-DEL10-MG' 'UOP01-DEL01-AP' 'UOP01-DEL01-TO' 'UOP01-DEL03-BA'\n",
      " 'UOP01-DEL10-RS' 'UOP01-DEL07-PR' 'UOP04-DEL08-RJ' 'UOP02-DEL08-BA'\n",
      " 'UOP02-DEL04-PR' 'UOP03-DEL04-RS' 'UOP01-DEL02-MT' 'UOP01-DEL11-MG'\n",
      " 'UOP02-DEL01-MS' 'UOP02-DEL05-PR' 'UOP03-DEL03-MS' 'UOP01-DEL08-BA'\n",
      " 'UOP02-DEL07-BA' 'UOP03-DEL04-MG' 'UOP01-DEL07-GO' 'UOP05-DEL05-PR'\n",
      " 'UOP03-DEL02-TO' 'UOP02-DEL01-MA' 'UOP01-DEL11-RS' 'UOP01-DEL01-DF'\n",
      " 'UOP01-DEL07-RS' 'UOP01-DEL05-BA' 'UOP01-DEL06-GO' 'UOP03-DEL01-GO'\n",
      " 'UOP01-DEL04-PI' 'UOP01-DEL03-RJ' 'UOP03-DEL01-MS' 'UOP02-DEL01-DF'\n",
      " 'UOP02-DEL01-RN' 'UOP02-DEL08-RJ' 'UOP01-DEL15-MG' 'UOP04-DEL03-PR'\n",
      " 'UOP02-DEL02-CE' 'UOP03-DEL02-DF' 'UOP03-DEL01-PR' 'UOP02-DEL03-CE'\n",
      " 'UOP04-DEL02-PR' 'UOP01-DEL04-PR' 'UOP01-DEL03-PE' 'UOP03-DEL05-RS'\n",
      " 'UOP01-DEL01-PR' 'UOP02-DEL05-RJ' 'UOP01-DEL10-BA' 'UOP02-DEL01-TO'\n",
      " 'UOP03-DEL04-CE' 'UOP01-DEL03-MS' 'UOP02-DEL05-MG' 'UOP01-DEL08-MS'\n",
      " 'UOP03-DEL05-PR' 'UOP02-DEL08-RS' 'UOP03-DEL01-CE' 'UOP02-DEL02-GO'\n",
      " 'UOP02-DEL13-MG' 'UOP02-DEL02-MT' 'UOP02-DEL11-MG' 'UOP01-DEL07-MS'\n",
      " 'UOP01-DEL02-PB' 'UOP02-DEL02-RS' 'UOP03-DEL03-PB' 'UOP01-DEL04-BA'\n",
      " 'UOP01-DEL05-PI' 'UOP01-DEL05-SC' 'UOP01-DEL03-MT' 'UOP01-DEL03-RO'\n",
      " 'UOP02-DEL08-MG' 'UOP01-DEL04-ES' 'UOP01-DEL02-PR' 'UOP02-DEL10-BA'\n",
      " 'UOP02-DEL06-MG' 'UOP03-DEL07-MG' 'UOP02-DEL09-PR' 'UOP04-DEL05-RJ'\n",
      " 'UOP02-DEL05-CE' 'UOP03-DEL08-BA' 'UOP01-DEL06-SC' 'UOP04-DEL07-SC'\n",
      " 'UOP01-DEL06-BA' 'UOP01-DEL02-MA' 'UOP01-DEL08-SP' 'UOP01-DEL02-RO'\n",
      " 'UOP01-DEL01-RS' 'UOP01-DEL02-TO' 'UOP04-DEL02-MS' 'UOP01-DEL04-RO'\n",
      " 'UOP02-DEL09-RS' 'UOP01-DEL03-CE' 'UOP02-DEL01-RO' 'UOP03-DEL05-BA'\n",
      " 'UOP01-DEL09-PR' 'UOP01-DEL02-PA' 'UOP01-DEL04-RS' 'UOP01-DEL01-AM'\n",
      " 'UOP01-DEL07-MG' 'UOP01-DEL03-RS' 'UOP02-DEL01-PB' 'UOP02-DEL07-PR'\n",
      " 'UOP04-DEL01-PB' 'UOP01-DEL01-CE' 'UOP02-DEL05-BA' 'UOP02-DEL04-RJ'\n",
      " 'UOP02-DEL02-SP' 'UOP01-DEL06-PE' 'UOP02-DEL09-BA' 'UOP04-DEL08-RS'\n",
      " 'UOP02-DEL03-MS' 'UOP02-DEL03-DF' 'UOP04-DEL06-SC' 'UOP01-DEL04-RJ'\n",
      " 'UOP02-DEL13-RS' 'UOP03-DEL03-SC' 'UOP01-DEL06-RJ' 'UOP02-DEL02PE'\n",
      " 'UOP02-DEL05-SC' 'UOP02-DEL05-GO' 'UOP01-DEL04-RN' 'UOP03-DEL04-MS'\n",
      " 'UOP02-DEL15-MG' 'UOP01-DEL06-RS' 'UOP02-DEL07-SP' 'UOP02-DEL09-MS'\n",
      " 'UOP02-DEL16-MG' 'UOP01-DEL03-MA' 'UOP02-DEL01-RS' 'UOP02-DEL01-AL'\n",
      " 'UOP02-DEL02-SC' 'UOP01-DEL01-AC' 'UOP03-DEL01-PB' 'UOP01-DEL05-RJ'\n",
      " 'UOP02-DEL12-RS' 'UOP04-DEL03-RJ' 'UOP02-DEL04-RO' 'UOP03-DEL03-CE'\n",
      " 'UOP03-DEL06-PE' 'UOP03-DEL05-RJ' 'UOP01-DEL01-PA' 'UOP02-DEL01-PA'\n",
      " 'UOP02-DEL04-MA' 'UOP02-DEL06-PE' 'UOP01-DEL04-CE' 'UOP02-DEL01-BA'\n",
      " 'UOP02-DEL06-RS' 'UOP02-DEL04-MS' 'UOP02-DEL07-MS' 'UOP04-DEL01-RO'\n",
      " 'UOP02-DEL04-CE' 'UOP01-DEL02-SE' 'UOP01-DEL06-PR' 'UOP03-DEL11-RS'\n",
      " 'UOP03-DEL02-PE' 'UOP02-DEL02-RO' 'UOP02-DEL02-PB' 'UOP01-DEL05-RS'\n",
      " 'UOP01-DEL02-RN' 'UOP01-DEL04-MA' 'UOP02-DEL01-AC' 'UOP01-DEL04-MS'\n",
      " 'UOP01-DEL05-PR' 'UOP02-DEL02-MA' 'UOP02-DEL03-PB' 'UOP01-DEL05-MS'\n",
      " 'UOP02-DEL01-SE' 'UOP02-DEL03-RJ' 'UOP01-DEL04-PE' 'UOP02-DEL11-RS'\n",
      " 'UOP02-DEL04-RN' 'UOP03-DEL07-SP' 'UOP04-DEL01-MS' 'UOP01-DEL08-MG'\n",
      " 'UOP01-DEL03-AL' 'UOP01-DEL05-MA' 'UOP01-DEL02-AL' 'UOP04-DEL07-RS'\n",
      " 'UOP01-DEL02-PE' 'UOP01-DEL13-RS' 'UOP01-DEL03-RN' 'UOP01-DEL02-RJ'\n",
      " 'UOP02-DEL01-RJ' 'UOP02-DEL05-PE' 'UOP02-DEL03-RN' 'UOP01-DEL02-PI'\n",
      " 'UOP03-DEL01-RN' nan 'UOP02-DEL01-AM' 'UOP04-DEL02-PB' 'UOP03-DEL01-PI'\n",
      " 'UOP03-DEL02-PB' 'UOP02-DEL04-PI' 'UOP02-DEL05-RS' 'UOP02-DEL01-AP'\n",
      " 'UOP01-DEL02-CE' 'UOP05-DEL01-AM' 'UOP01-DEL04-PA' 'UOP03-DEL01-PA'\n",
      " 'UOP06-DEL01-PR' 'UOP01-DEL06-MA' 'UOP03-DEL01-PE' 'UOP03-DEL01-RO'\n",
      " 'UOP04-DEL01-AM' 'UOP03-DEL07-PR' 'UOP02-DEL04-PE' 'UOP02-DEL08-PR'\n",
      " 'UOP02-DEL02-MS' 'UOP03-DEL04-PE' 'UOP04-DEL05-PR' 'UOP03-DEL01-AP'\n",
      " 'UOP03-DEL02-RO' 'UOP03-DEL02-MS' 'UOP03-DEL09-BA' 'UOP02-DEL04-GO'\n",
      " 'UOP02-DEL02-DF' 'NPF/DEL01-SP' 'UOP03-DEL06-MT' 'UOP02-DEL06-MT'\n",
      " 'UOP05-DEL07-PR' 'UOP02-DEL03-SP' 'UOP03-DEL04-SP' 'UOP04-DEL08-BA'\n",
      " 'UOP07-DEL01-PR' 'UOP02-DEL04-MT' 'UOP07-DEL07-SC' 'UOP04-DEL04-PR'\n",
      " 'NPF/DEL04-RS' 'UOP03-DEL02-MT' 'NPF/DEL08-SP' 'UOP02-DEL05-PA'\n",
      " 'UOP02-DEL12-MG' 'UOP04-DEL01-PA' 'UOP03-DEL01-AC' 'UOP03-DEL06-PR'\n",
      " 'UOP03-DEL01-AM' 'UOP03-DEL01-TO']\n",
      "\n"
     ]
    }
   ],
   "source": [
    "verificar_valores_unicos(dados_2022)"
   ]
  },
  {
   "cell_type": "markdown",
   "metadata": {},
   "source": [
    "### LISTA DE CATEGORIZAÇÃO DAS CAUSA DE ACIDENTES, SEGUNDO PESQUISAS DE CLASSIFICAÇÃO"
   ]
  },
  {
   "cell_type": "code",
   "execution_count": 12,
   "metadata": {},
   "outputs": [],
   "source": [
    "falha_condutor = [\n",
    "    'Velocidade Incompatível', 'Transitar na contramão', 'Ausência de reação do condutor',\n",
    "    'Reação tardia ou ineficiente do condutor', 'Ultrapassagem Indevida',\n",
    "    'Acessar a via sem observar a presença dos outros veículos', 'Ingestão de álcool pelo condutor',\n",
    "    'Manobra de mudança de faixa', 'Condutor Dormindo', 'Condutor deixou de manter distância do veículo da frente',\n",
    "    'Desrespeitar a preferência no cruzamento', 'Transitar no acostamento', 'Conversão proibida',\n",
    "    'Trafegar com motocicleta (ou similar) entre as faixas', 'Retorno proibido',\n",
    "    'Condutor desrespeitou a iluminação vermelha do semáforo', 'Condutor usando celular',\n",
    "    'Ingestão de substâncias psicoativas pelo condutor', 'Frear bruscamente', 'Estacionar ou parar em local proibido',\n",
    "    'Transitar na calçada', 'Acesso irregular'\n",
    "]\n",
    "\n",
    "falha_pedestre = [\n",
    "    'Pedestre andava na pista', 'Entrada inopinada do pedestre', 'Pedestre cruzava a pista fora da faixa',\n",
    "    'Ingestão de álcool e/ou substâncias psicoativas pelo pedestre',\n",
    "    'Ingestão de álcool ou de substâncias psicoativas pelo pedestre',\n",
    "    'Área urbana sem a presença de local apropriado para a travessia de pedestres'\n",
    "]\n",
    "\n",
    "fatores_externos = [\n",
    "    'Animais na Pista', 'Chuva', 'Mal súbito do condutor', 'Demais Fenômenos da natureza', 'Fumaça', 'Neblina'\n",
    "]\n",
    "\n",
    "falha_mecanica = [\n",
    "    'Demais falhas mecânicas ou elétricas', 'Problema com o freio', 'Carga excessiva e/ou mal acondicionada', 'Problema na suspensão'\n",
    "]\n",
    "\n",
    "problemas_via = [\n",
    "    'Pista Escorregadia', 'Avarias e/ou desgaste excessivo no pneu', 'Iluminação deficiente',\n",
    "    'Deficiência do Sistema de Iluminação/Sinalização', 'Objeto estático sobre o leito carroçável',\n",
    "    'Curva acentuada', 'Ausência de sinalização', 'Acumulo de água sobre o pavimento', 'Pista esburacada',\n",
    "    'Falta de acostamento', 'Afundamento ou ondulação no pavimento', 'Acostamento em desnível',\n",
    "    'Sinalização mal posicionada', 'Falta de elemento de contenção que evite a saída do leito carroçável',\n",
    "    'Demais falhas na via', 'Declive acentuado', 'Desvio temporário', 'Faixas de trânsito com largura insuficiente',\n",
    "    'Acumulo de areia ou detritos sobre o pavimento', 'Pista em desnível', 'Obstrução na via',\n",
    "    'Acumulo de óleo sobre o pavimento', 'Obras na pista', 'Sinalização encoberta',\n",
    "    'Restrição de visibilidade em curvas horizontais', 'Restrição de visibilidade em curvas verticais'\n",
    "]"
   ]
  },
  {
   "cell_type": "code",
   "execution_count": 13,
   "metadata": {},
   "outputs": [
    {
     "data": {
      "text/plain": [
       "Falha do Condutor     3382\n",
       "Falha do Pedestre      729\n",
       "Problemas nas Vias     277\n",
       "Fatores Externos       207\n",
       "Falha Mecânica          71\n",
       "Name: categoria, dtype: int64"
      ]
     },
     "metadata": {},
     "output_type": "display_data"
    }
   ],
   "source": [
    "# Cria uma nova coluna no dataset com as categorias estabelecidas na função e mostra uma contagem da quantidade de dados em cada categoria\n",
    "\n",
    "dados_fatais_atualizado_21 = categorizar_acidentes(dados_fatais_limpo_21)\n",
    "display(dados_fatais_limpo_21['categoria'].value_counts())"
   ]
  },
  {
   "cell_type": "code",
   "execution_count": 14,
   "metadata": {},
   "outputs": [
    {
     "data": {
      "text/plain": [
       "Falha do Condutor     3419\n",
       "Falha do Pedestre      678\n",
       "Problemas nas Vias     294\n",
       "Fatores Externos       194\n",
       "Falha Mecânica          77\n",
       "Outros                   2\n",
       "Name: categoria, dtype: int64"
      ]
     },
     "metadata": {},
     "output_type": "display_data"
    }
   ],
   "source": [
    "dados_fatais_atualizado_22 = categorizar_acidentes(dados_fatais_limpo_22)\n",
    "display(dados_fatais_limpo_22['categoria'].value_counts())"
   ]
  },
  {
   "cell_type": "markdown",
   "metadata": {},
   "source": [
    "### Porcentagem das categorias"
   ]
  },
  {
   "cell_type": "code",
   "execution_count": 15,
   "metadata": {},
   "outputs": [
    {
     "data": {
      "text/plain": [
       "Falha do Condutor     72.481783\n",
       "Falha do Pedestre     15.623661\n",
       "Problemas nas Vias     5.936562\n",
       "Fatores Externos       4.436348\n",
       "Falha Mecânica         1.521646\n",
       "Name: categoria, dtype: float64"
      ]
     },
     "execution_count": 15,
     "metadata": {},
     "output_type": "execute_result"
    }
   ],
   "source": [
    "porcentagem_categoria(dados_fatais_limpo_21)"
   ]
  },
  {
   "cell_type": "code",
   "execution_count": 16,
   "metadata": {},
   "outputs": [
    {
     "data": {
      "text/plain": [
       "Falha do Condutor     73.306175\n",
       "Falha do Pedestre     14.536878\n",
       "Problemas nas Vias     6.303602\n",
       "Fatores Externos       4.159520\n",
       "Falha Mecânica         1.650943\n",
       "Outros                 0.042882\n",
       "Name: categoria, dtype: float64"
      ]
     },
     "execution_count": 16,
     "metadata": {},
     "output_type": "execute_result"
    }
   ],
   "source": [
    "porcentagem_categoria(dados_fatais_limpo_22)"
   ]
  },
  {
   "cell_type": "code",
   "execution_count": 17,
   "metadata": {},
   "outputs": [
    {
     "data": {
      "image/png": "[encoded data removed]",
      "text/plain": [
       "<Figure size 1152x576 with 2 Axes>"
      ]
     },
     "metadata": {
      "needs_background": "light"
     },
     "output_type": "display_data"
    }
   ],
   "source": [
    "# Gráfico\n",
    "plotar_graficos_comparacao_categorias(porcentagem_categoria(dados_fatais_limpo_21), porcentagem_categoria(dados_fatais_limpo_22))"
   ]
  },
  {
   "cell_type": "markdown",
   "metadata": {},
   "source": [
    "### Porcentagem das causas"
   ]
  },
  {
   "cell_type": "code",
   "execution_count": 18,
   "metadata": {},
   "outputs": [
    {
     "data": {
      "text/plain": [
       "Velocidade Incompatível                            12.237462\n",
       "Transitar na contramão                             10.972996\n",
       "Ausência de reação do condutor                      8.529790\n",
       "Reação tardia ou ineficiente do condutor            7.865409\n",
       "Pedestre andava na pista                            6.536648\n",
       "                                                     ...    \n",
       "Fumaça                                              0.021432\n",
       "Restrição de visibilidade em curvas verticais       0.021432\n",
       "Problema na suspensão                               0.021432\n",
       "Restrição de visibilidade em curvas horizontais     0.021432\n",
       "Sinalização encoberta                               0.021432\n",
       "Name: causa_acidente, Length: 64, dtype: float64"
      ]
     },
     "execution_count": 18,
     "metadata": {},
     "output_type": "execute_result"
    }
   ],
   "source": [
    "porcentagem_acidentes_amplos(dados_fatais_limpo_21)"
   ]
  },
  {
   "cell_type": "code",
   "execution_count": 19,
   "metadata": {},
   "outputs": [
    {
     "data": {
      "text/plain": [
       "Transitar na contramão                                       13.293310\n",
       "Reação tardia ou ineficiente do condutor                     10.591767\n",
       "Ausência de reação do condutor                                9.884220\n",
       "Velocidade Incompatível                                       8.790738\n",
       "Acessar a via sem observar a presença dos outros veículos     6.925386\n",
       "                                                               ...    \n",
       "Sinalização mal posicionada                                   0.042882\n",
       "Fumaça                                                        0.021441\n",
       "Faixas de trânsito com largura insuficiente                   0.021441\n",
       "Deixar de acionar o farol da motocicleta (ou similar)         0.021441\n",
       "Participar de racha                                           0.021441\n",
       "Name: causa_acidente, Length: 63, dtype: float64"
      ]
     },
     "execution_count": 19,
     "metadata": {},
     "output_type": "execute_result"
    }
   ],
   "source": [
    "porcentagem_acidentes_amplos(dados_fatais_limpo_22)"
   ]
  },
  {
   "cell_type": "code",
   "execution_count": 20,
   "metadata": {},
   "outputs": [
    {
     "data": {
      "image/png": "[encoded data removed]",
      "text/plain": [
       "<Figure size 864x864 with 2 Axes>"
      ]
     },
     "metadata": {
      "needs_background": "light"
     },
     "output_type": "display_data"
    }
   ],
   "source": [
    "plotar_graficos_comparacao_causas(porcentagem_acidentes_amplos(dados_fatais_limpo_21), porcentagem_acidentes_amplos(dados_fatais_limpo_22))"
   ]
  },
  {
   "cell_type": "markdown",
   "metadata": {},
   "source": [
    "### Verificação dos acidentes na semana e finais de semana"
   ]
  },
  {
   "cell_type": "markdown",
   "metadata": {},
   "source": [
    "#### Filtro Semana e Fim de Semana"
   ]
  },
  {
   "cell_type": "code",
   "execution_count": 21,
   "metadata": {},
   "outputs": [
    {
     "data": {
      "text/plain": [
       "2501"
      ]
     },
     "execution_count": 21,
     "metadata": {},
     "output_type": "execute_result"
    }
   ],
   "source": [
    "# Filtrando os dados por final de semana (sexta, sábado e domingo)\n",
    "\n",
    "finais_semana_21 = filtro_final_semana(dados_fatais_atualizado_21)\n",
    "finais_semana_21.shape[0]"
   ]
  },
  {
   "cell_type": "code",
   "execution_count": 22,
   "metadata": {},
   "outputs": [
    {
     "data": {
      "text/plain": [
       "2488"
      ]
     },
     "execution_count": 22,
     "metadata": {},
     "output_type": "execute_result"
    }
   ],
   "source": [
    "finais_semana_22 = filtro_final_semana(dados_fatais_atualizado_22)\n",
    "finais_semana_22.shape[0]"
   ]
  },
  {
   "cell_type": "code",
   "execution_count": 23,
   "metadata": {},
   "outputs": [
    {
     "data": {
      "text/plain": [
       "2165"
      ]
     },
     "execution_count": 23,
     "metadata": {},
     "output_type": "execute_result"
    }
   ],
   "source": [
    "# Filtrando os dados por dias da semana (segunda, terça, quarta e quinta)\n",
    "\n",
    "semana_21 = filtro_semana(dados_fatais_atualizado_21)\n",
    "semana_21.shape[0]"
   ]
  },
  {
   "cell_type": "code",
   "execution_count": 24,
   "metadata": {},
   "outputs": [
    {
     "data": {
      "text/plain": [
       "2176"
      ]
     },
     "execution_count": 24,
     "metadata": {},
     "output_type": "execute_result"
    }
   ],
   "source": [
    "semana_22 = filtro_semana(dados_fatais_atualizado_22)\n",
    "semana_22.shape[0]"
   ]
  },
  {
   "cell_type": "markdown",
   "metadata": {},
   "source": [
    "#### Horários com maior incidência de acidentes - Geral "
   ]
  },
  {
   "cell_type": "code",
   "execution_count": 25,
   "metadata": {},
   "outputs": [
    {
     "data": {
      "text/plain": [
       "18    407\n",
       "19    391\n",
       "20    318\n",
       "21    256\n",
       "17    234\n",
       "16    225\n",
       "22    219\n",
       "23    189\n",
       "05    181\n",
       "06    179\n",
       "14    176\n",
       "15    176\n",
       "07    175\n",
       "13    172\n",
       "12    156\n",
       "00    145\n",
       "03    144\n",
       "04    143\n",
       "01    137\n",
       "02    131\n",
       "11    129\n",
       "10    129\n",
       "09    128\n",
       "08    126\n",
       "Name: horario, dtype: int64"
      ]
     },
     "execution_count": 25,
     "metadata": {},
     "output_type": "execute_result"
    }
   ],
   "source": [
    "horarios_acidentes(dados_fatais_limpo_21)"
   ]
  },
  {
   "cell_type": "code",
   "execution_count": 26,
   "metadata": {},
   "outputs": [
    {
     "data": {
      "text/plain": [
       "19    421\n",
       "18    378\n",
       "20    298\n",
       "17    237\n",
       "21    226\n",
       "22    221\n",
       "23    212\n",
       "06    206\n",
       "15    203\n",
       "05    190\n",
       "07    186\n",
       "16    170\n",
       "14    169\n",
       "04    168\n",
       "12    162\n",
       "08    147\n",
       "03    145\n",
       "00    144\n",
       "11    139\n",
       "01    130\n",
       "13    130\n",
       "10    130\n",
       "09    126\n",
       "02    126\n",
       "Name: horario, dtype: int64"
      ]
     },
     "execution_count": 26,
     "metadata": {},
     "output_type": "execute_result"
    }
   ],
   "source": [
    "horarios_acidentes(dados_fatais_limpo_22)"
   ]
  },
  {
   "cell_type": "code",
   "execution_count": 27,
   "metadata": {},
   "outputs": [
    {
     "data": {
      "image/png": "[encoded data removed]",
      "text/plain": [
       "<Figure size 864x864 with 2 Axes>"
      ]
     },
     "metadata": {
      "needs_background": "light"
     },
     "output_type": "display_data"
    }
   ],
   "source": [
    "plotar_graficos_comparacao_horarios(horarios_acidentes(dados_fatais_limpo_21), horarios_acidentes(dados_fatais_limpo_22))"
   ]
  },
  {
   "cell_type": "markdown",
   "metadata": {},
   "source": [
    "#### Horários com maior incidência de acidentes - finais de semana\n",
    "\n",
    "\n"
   ]
  },
  {
   "cell_type": "code",
   "execution_count": 28,
   "metadata": {},
   "outputs": [
    {
     "name": "stderr",
     "output_type": "stream",
     "text": [
      "C:\\Users\\luizf\\AppData\\Local\\Temp\\ipykernel_9904\\2494046517.py:71: SettingWithCopyWarning: \n",
      "A value is trying to be set on a copy of a slice from a DataFrame.\n",
      "Try using .loc[row_indexer,col_indexer] = value instead\n",
      "\n",
      "See the caveats in the documentation: https://pandas.pydata.org/pandas-docs/stable/user_guide/indexing.html#returning-a-view-versus-a-copy\n",
      "  dados.loc[:, 'horario'] = dados['horario'].str[:2]\n"
     ]
    },
    {
     "data": {
      "text/plain": [
       "18    228\n",
       "19    225\n",
       "20    188\n",
       "21    150\n",
       "22    130\n",
       "16    121\n",
       "23    119\n",
       "17    115\n",
       "05    100\n",
       "15     96\n",
       "14     91\n",
       "03     90\n",
       "04     90\n",
       "00     84\n",
       "13     83\n",
       "06     77\n",
       "12     75\n",
       "07     75\n",
       "01     73\n",
       "02     72\n",
       "08     57\n",
       "09     55\n",
       "11     54\n",
       "10     53\n",
       "Name: horario, dtype: int64"
      ]
     },
     "execution_count": 28,
     "metadata": {},
     "output_type": "execute_result"
    }
   ],
   "source": [
    "horarios_acidentes(finais_semana_21)"
   ]
  },
  {
   "cell_type": "code",
   "execution_count": 29,
   "metadata": {},
   "outputs": [
    {
     "name": "stderr",
     "output_type": "stream",
     "text": [
      "C:\\Users\\luizf\\AppData\\Local\\Temp\\ipykernel_9904\\2494046517.py:71: SettingWithCopyWarning: \n",
      "A value is trying to be set on a copy of a slice from a DataFrame.\n",
      "Try using .loc[row_indexer,col_indexer] = value instead\n",
      "\n",
      "See the caveats in the documentation: https://pandas.pydata.org/pandas-docs/stable/user_guide/indexing.html#returning-a-view-versus-a-copy\n",
      "  dados.loc[:, 'horario'] = dados['horario'].str[:2]\n"
     ]
    },
    {
     "data": {
      "text/plain": [
       "19    234\n",
       "18    188\n",
       "20    163\n",
       "22    135\n",
       "23    130\n",
       "17    125\n",
       "21    124\n",
       "05    118\n",
       "04    105\n",
       "15    103\n",
       "06     98\n",
       "03     91\n",
       "14     90\n",
       "16     84\n",
       "07     83\n",
       "01     80\n",
       "02     76\n",
       "00     75\n",
       "08     70\n",
       "12     70\n",
       "11     68\n",
       "09     61\n",
       "13     60\n",
       "10     57\n",
       "Name: horario, dtype: int64"
      ]
     },
     "execution_count": 29,
     "metadata": {},
     "output_type": "execute_result"
    }
   ],
   "source": [
    "horarios_acidentes(finais_semana_22)"
   ]
  },
  {
   "cell_type": "code",
   "execution_count": 30,
   "metadata": {},
   "outputs": [
    {
     "name": "stderr",
     "output_type": "stream",
     "text": [
      "C:\\Users\\luizf\\AppData\\Local\\Temp\\ipykernel_9904\\2494046517.py:71: SettingWithCopyWarning: \n",
      "A value is trying to be set on a copy of a slice from a DataFrame.\n",
      "Try using .loc[row_indexer,col_indexer] = value instead\n",
      "\n",
      "See the caveats in the documentation: https://pandas.pydata.org/pandas-docs/stable/user_guide/indexing.html#returning-a-view-versus-a-copy\n",
      "  dados.loc[:, 'horario'] = dados['horario'].str[:2]\n",
      "C:\\Users\\luizf\\AppData\\Local\\Temp\\ipykernel_9904\\2494046517.py:71: SettingWithCopyWarning: \n",
      "A value is trying to be set on a copy of a slice from a DataFrame.\n",
      "Try using .loc[row_indexer,col_indexer] = value instead\n",
      "\n",
      "See the caveats in the documentation: https://pandas.pydata.org/pandas-docs/stable/user_guide/indexing.html#returning-a-view-versus-a-copy\n",
      "  dados.loc[:, 'horario'] = dados['horario'].str[:2]\n"
     ]
    },
    {
     "data": {
      "image/png": "[encoded data removed]",
      "text/plain": [
       "<Figure size 864x864 with 2 Axes>"
      ]
     },
     "metadata": {
      "needs_background": "light"
     },
     "output_type": "display_data"
    }
   ],
   "source": [
    "plotar_graficos_comparacao_horarios(horarios_acidentes(finais_semana_21), horarios_acidentes(finais_semana_22))"
   ]
  },
  {
   "cell_type": "markdown",
   "metadata": {},
   "source": [
    "#### Horários com maior incidência de acidentes - semana"
   ]
  },
  {
   "cell_type": "code",
   "execution_count": 31,
   "metadata": {},
   "outputs": [
    {
     "name": "stderr",
     "output_type": "stream",
     "text": [
      "C:\\Users\\luizf\\AppData\\Local\\Temp\\ipykernel_9904\\2494046517.py:71: SettingWithCopyWarning: \n",
      "A value is trying to be set on a copy of a slice from a DataFrame.\n",
      "Try using .loc[row_indexer,col_indexer] = value instead\n",
      "\n",
      "See the caveats in the documentation: https://pandas.pydata.org/pandas-docs/stable/user_guide/indexing.html#returning-a-view-versus-a-copy\n",
      "  dados.loc[:, 'horario'] = dados['horario'].str[:2]\n"
     ]
    },
    {
     "data": {
      "text/plain": [
       "18    179\n",
       "19    166\n",
       "20    130\n",
       "17    119\n",
       "21    106\n",
       "16    104\n",
       "06    102\n",
       "07    100\n",
       "22     89\n",
       "13     89\n",
       "14     85\n",
       "05     81\n",
       "12     81\n",
       "15     80\n",
       "10     76\n",
       "11     75\n",
       "09     73\n",
       "23     70\n",
       "08     69\n",
       "01     64\n",
       "00     61\n",
       "02     59\n",
       "03     54\n",
       "04     53\n",
       "Name: horario, dtype: int64"
      ]
     },
     "execution_count": 31,
     "metadata": {},
     "output_type": "execute_result"
    }
   ],
   "source": [
    "horarios_acidentes(semana_21)"
   ]
  },
  {
   "cell_type": "code",
   "execution_count": 32,
   "metadata": {},
   "outputs": [
    {
     "name": "stderr",
     "output_type": "stream",
     "text": [
      "C:\\Users\\luizf\\AppData\\Local\\Temp\\ipykernel_9904\\2494046517.py:71: SettingWithCopyWarning: \n",
      "A value is trying to be set on a copy of a slice from a DataFrame.\n",
      "Try using .loc[row_indexer,col_indexer] = value instead\n",
      "\n",
      "See the caveats in the documentation: https://pandas.pydata.org/pandas-docs/stable/user_guide/indexing.html#returning-a-view-versus-a-copy\n",
      "  dados.loc[:, 'horario'] = dados['horario'].str[:2]\n"
     ]
    },
    {
     "data": {
      "text/plain": [
       "18    190\n",
       "19    187\n",
       "20    135\n",
       "17    112\n",
       "06    108\n",
       "07    103\n",
       "21    102\n",
       "15    100\n",
       "12     92\n",
       "22     86\n",
       "16     86\n",
       "23     82\n",
       "14     79\n",
       "08     77\n",
       "10     73\n",
       "05     72\n",
       "11     71\n",
       "13     70\n",
       "00     69\n",
       "09     65\n",
       "04     63\n",
       "03     54\n",
       "02     50\n",
       "01     50\n",
       "Name: horario, dtype: int64"
      ]
     },
     "execution_count": 32,
     "metadata": {},
     "output_type": "execute_result"
    }
   ],
   "source": [
    "horarios_acidentes(semana_22)"
   ]
  },
  {
   "cell_type": "code",
   "execution_count": 33,
   "metadata": {},
   "outputs": [
    {
     "name": "stderr",
     "output_type": "stream",
     "text": [
      "C:\\Users\\luizf\\AppData\\Local\\Temp\\ipykernel_9904\\2494046517.py:71: SettingWithCopyWarning: \n",
      "A value is trying to be set on a copy of a slice from a DataFrame.\n",
      "Try using .loc[row_indexer,col_indexer] = value instead\n",
      "\n",
      "See the caveats in the documentation: https://pandas.pydata.org/pandas-docs/stable/user_guide/indexing.html#returning-a-view-versus-a-copy\n",
      "  dados.loc[:, 'horario'] = dados['horario'].str[:2]\n",
      "C:\\Users\\luizf\\AppData\\Local\\Temp\\ipykernel_9904\\2494046517.py:71: SettingWithCopyWarning: \n",
      "A value is trying to be set on a copy of a slice from a DataFrame.\n",
      "Try using .loc[row_indexer,col_indexer] = value instead\n",
      "\n",
      "See the caveats in the documentation: https://pandas.pydata.org/pandas-docs/stable/user_guide/indexing.html#returning-a-view-versus-a-copy\n",
      "  dados.loc[:, 'horario'] = dados['horario'].str[:2]\n"
     ]
    },
    {
     "data": {
      "image/png": "[encoded data removed]",
      "text/plain": [
       "<Figure size 864x864 with 2 Axes>"
      ]
     },
     "metadata": {
      "needs_background": "light"
     },
     "output_type": "display_data"
    }
   ],
   "source": [
    "plotar_graficos_comparacao_horarios(horarios_acidentes(semana_21), horarios_acidentes(semana_22))"
   ]
  },
  {
   "cell_type": "markdown",
   "metadata": {},
   "source": [
    "#### Porcentagem das categorias - finais de semana e semana"
   ]
  },
  {
   "cell_type": "code",
   "execution_count": 34,
   "metadata": {},
   "outputs": [
    {
     "data": {
      "text/plain": [
       "Falha do Condutor     74.530188\n",
       "Falha do Pedestre     14.474210\n",
       "Problemas nas Vias     5.757697\n",
       "Fatores Externos       4.198321\n",
       "Falha Mecânica         1.039584\n",
       "Name: categoria, dtype: float64"
      ]
     },
     "execution_count": 34,
     "metadata": {},
     "output_type": "execute_result"
    }
   ],
   "source": [
    "porcentagem_categoria(finais_semana_21)"
   ]
  },
  {
   "cell_type": "code",
   "execution_count": 35,
   "metadata": {},
   "outputs": [
    {
     "data": {
      "text/plain": [
       "Falha do Condutor     74.638264\n",
       "Falha do Pedestre     13.826367\n",
       "Problemas nas Vias     6.149518\n",
       "Fatores Externos       4.059486\n",
       "Falha Mecânica         1.245981\n",
       "Outros                 0.080386\n",
       "Name: categoria, dtype: float64"
      ]
     },
     "execution_count": 35,
     "metadata": {},
     "output_type": "execute_result"
    }
   ],
   "source": [
    "porcentagem_categoria(finais_semana_22)"
   ]
  },
  {
   "cell_type": "code",
   "execution_count": 36,
   "metadata": {},
   "outputs": [
    {
     "data": {
      "text/plain": [
       "Falha do Condutor     70.115473\n",
       "Falha do Pedestre     16.951501\n",
       "Problemas nas Vias     6.143187\n",
       "Fatores Externos       4.711316\n",
       "Falha Mecânica         2.078522\n",
       "Name: categoria, dtype: float64"
      ]
     },
     "execution_count": 36,
     "metadata": {},
     "output_type": "execute_result"
    }
   ],
   "source": [
    "porcentagem_categoria(semana_21)"
   ]
  },
  {
   "cell_type": "code",
   "execution_count": 37,
   "metadata": {},
   "outputs": [
    {
     "data": {
      "text/plain": [
       "Falha do Condutor     71.783088\n",
       "Falha do Pedestre     15.349265\n",
       "Problemas nas Vias     6.479779\n",
       "Fatores Externos       4.273897\n",
       "Falha Mecânica         2.113971\n",
       "Name: categoria, dtype: float64"
      ]
     },
     "execution_count": 37,
     "metadata": {},
     "output_type": "execute_result"
    }
   ],
   "source": [
    "porcentagem_categoria(semana_22)"
   ]
  },
  {
   "cell_type": "markdown",
   "metadata": {},
   "source": [
    "#### Causas - finais de semana e semana"
   ]
  },
  {
   "cell_type": "code",
   "execution_count": 38,
   "metadata": {},
   "outputs": [
    {
     "data": {
      "text/plain": [
       "Velocidade Incompatível                                                         12.594962\n",
       "Transitar na contramão                                                          12.235106\n",
       "Ausência de reação do condutor                                                   9.036385\n",
       "Reação tardia ou ineficiente do condutor                                         7.836865\n",
       "Pedestre andava na pista                                                         6.317473\n",
       "Ultrapassagem Indevida                                                           6.157537\n",
       "Acessar a via sem observar a presença dos outros veículos                        5.877649\n",
       "Ingestão de álcool pelo condutor                                                 5.237905\n",
       "Manobra de mudança de faixa                                                      4.558177\n",
       "Condutor Dormindo                                                                3.918433\n",
       "Entrada inopinada do pedestre                                                    3.158737\n",
       "Pedestre cruzava a pista fora da faixa                                           3.158737\n",
       "Condutor deixou de manter distância do veículo da frente                         1.479408\n",
       "Animais na Pista                                                                 1.439424\n",
       "Chuva                                                                            1.439424\n",
       "Mal súbito do condutor                                                           1.159536\n",
       "Desrespeitar a preferência no cruzamento                                         1.119552\n",
       "Transitar no acostamento                                                         0.959616\n",
       "Conversão proibida                                                               0.879648\n",
       "Ingestão de álcool e/ou substâncias psicoativas pelo pedestre                    0.799680\n",
       "Trafegar com motocicleta (ou similar) entre as faixas                            0.799680\n",
       "Demais falhas mecânicas ou elétricas                                             0.759696\n",
       "Acesso irregular                                                                 0.759696\n",
       "Pista Escorregadia                                                               0.719712\n",
       "Avarias e/ou desgaste excessivo no pneu                                          0.719712\n",
       "Ingestão de álcool ou de substâncias psicoativas pelo pedestre                   0.559776\n",
       "Iluminação deficiente                                                            0.519792\n",
       "Deficiência do Sistema de Iluminação/Sinalização                                 0.519792\n",
       "Área urbana sem a presença de local apropriado para a travessia de pedestres     0.479808\n",
       "Retorno proibido                                                                 0.439824\n",
       "Objeto estático sobre o leito carroçável                                         0.439824\n",
       "Curva acentuada                                                                  0.359856\n",
       "Ausência de sinalização                                                          0.359856\n",
       "Acumulo de água sobre o pavimento                                                0.319872\n",
       "Pista esburacada                                                                 0.319872\n",
       "Falta de acostamento                                                             0.279888\n",
       "Afundamento ou ondulação no pavimento                                            0.239904\n",
       "Problema com o freio                                                             0.239904\n",
       "Acostamento em desnível                                                          0.199920\n",
       "Condutor desrespeitou a iluminação vermelha do semáforo                          0.159936\n",
       "Estacionar ou parar em local proibido                                            0.159936\n",
       "Condutor usando celular                                                          0.159936\n",
       "Sinalização mal posicionada                                                      0.159936\n",
       "Demais Fenômenos da natureza                                                     0.079968\n",
       "Falta de elemento de contenção que evite a saída do leito carroçável             0.079968\n",
       "Demais falhas na via                                                             0.079968\n",
       "Declive acentuado                                                                0.079968\n",
       "Ingestão de substâncias psicoativas pelo condutor                                0.079968\n",
       "Frear bruscamente                                                                0.079968\n",
       "Desvio temporário                                                                0.079968\n",
       "Faixas de trânsito com largura insuficiente                                      0.079968\n",
       "Acumulo de areia ou detritos sobre o pavimento                                   0.079968\n",
       "Pista em desnível                                                                0.039984\n",
       "Obstrução na via                                                                 0.039984\n",
       "Carga excessiva e/ou mal acondicionada                                           0.039984\n",
       "Fumaça                                                                           0.039984\n",
       "Acumulo de óleo sobre o pavimento                                                0.039984\n",
       "Neblina                                                                          0.039984\n",
       "Name: causa_acidente, dtype: float64"
      ]
     },
     "execution_count": 38,
     "metadata": {},
     "output_type": "execute_result"
    }
   ],
   "source": [
    "porcentagem_acidentes_amplos(finais_semana_21)"
   ]
  },
  {
   "cell_type": "code",
   "execution_count": 39,
   "metadata": {},
   "outputs": [
    {
     "data": {
      "text/plain": [
       "Transitar na contramão                                       14.991961\n",
       "Reação tardia ou ineficiente do condutor                     10.008039\n",
       "Ausência de reação do condutor                                9.766881\n",
       "Velocidade Incompatível                                       9.163987\n",
       "Acessar a via sem observar a presença dos outros veículos     6.310289\n",
       "                                                               ...    \n",
       "Deixar de acionar o farol da motocicleta (ou similar)         0.040193\n",
       "Problema na suspensão                                         0.040193\n",
       "Participar de racha                                           0.040193\n",
       "Restrição de visibilidade em curvas verticais                 0.040193\n",
       "Desvio temporário                                             0.040193\n",
       "Name: causa_acidente, Length: 62, dtype: float64"
      ]
     },
     "execution_count": 39,
     "metadata": {},
     "output_type": "execute_result"
    }
   ],
   "source": [
    "porcentagem_acidentes_amplos(finais_semana_22)"
   ]
  },
  {
   "cell_type": "code",
   "execution_count": 40,
   "metadata": {},
   "outputs": [
    {
     "name": "stderr",
     "output_type": "stream",
     "text": [
      "C:\\Users\\luizf\\AppData\\Local\\Temp\\ipykernel_9904\\2494046517.py:71: SettingWithCopyWarning: \n",
      "A value is trying to be set on a copy of a slice from a DataFrame.\n",
      "Try using .loc[row_indexer,col_indexer] = value instead\n",
      "\n",
      "See the caveats in the documentation: https://pandas.pydata.org/pandas-docs/stable/user_guide/indexing.html#returning-a-view-versus-a-copy\n",
      "  dados.loc[:, 'horario'] = dados['horario'].str[:2]\n",
      "C:\\Users\\luizf\\AppData\\Local\\Temp\\ipykernel_9904\\2494046517.py:71: SettingWithCopyWarning: \n",
      "A value is trying to be set on a copy of a slice from a DataFrame.\n",
      "Try using .loc[row_indexer,col_indexer] = value instead\n",
      "\n",
      "See the caveats in the documentation: https://pandas.pydata.org/pandas-docs/stable/user_guide/indexing.html#returning-a-view-versus-a-copy\n",
      "  dados.loc[:, 'horario'] = dados['horario'].str[:2]\n"
     ]
    },
    {
     "data": {
      "image/png": "[encoded data removed]",
      "text/plain": [
       "<Figure size 864x864 with 2 Axes>"
      ]
     },
     "metadata": {
      "needs_background": "light"
     },
     "output_type": "display_data"
    }
   ],
   "source": [
    "plotar_graficos_comparacao_horarios(horarios_acidentes(finais_semana_21), horarios_acidentes(finais_semana_22))"
   ]
  },
  {
   "cell_type": "code",
   "execution_count": 41,
   "metadata": {},
   "outputs": [
    {
     "data": {
      "text/plain": [
       "Velocidade Incompatível                     11.824480\n",
       "Transitar na contramão                       9.515012\n",
       "Ausência de reação do condutor               7.944573\n",
       "Reação tardia ou ineficiente do condutor     7.898383\n",
       "Pedestre andava na pista                     6.789838\n",
       "                                              ...    \n",
       "Demais Fenômenos da natureza                 0.046189\n",
       "Desvio temporário                            0.046189\n",
       "Declive acentuado                            0.046189\n",
       "Problema na suspensão                        0.046189\n",
       "Neblina                                      0.046189\n",
       "Name: causa_acidente, Length: 61, dtype: float64"
      ]
     },
     "execution_count": 41,
     "metadata": {},
     "output_type": "execute_result"
    }
   ],
   "source": [
    "porcentagem_acidentes_amplos(semana_21)"
   ]
  },
  {
   "cell_type": "code",
   "execution_count": 42,
   "metadata": {},
   "outputs": [
    {
     "data": {
      "text/plain": [
       "Transitar na contramão                                                          11.351103\n",
       "Reação tardia ou ineficiente do condutor                                        11.259191\n",
       "Ausência de reação do condutor                                                  10.018382\n",
       "Velocidade Incompatível                                                          8.363971\n",
       "Acessar a via sem observar a presença dos outros veículos                        7.628676\n",
       "Pedestre andava na pista                                                         6.112132\n",
       "Ultrapassagem Indevida                                                           6.066176\n",
       "Entrada inopinada do pedestre                                                    4.733456\n",
       "Manobra de mudança de faixa                                                      3.860294\n",
       "Condutor Dormindo                                                                3.630515\n",
       "Pedestre cruzava a pista fora da faixa                                           3.354779\n",
       "Ingestão de álcool pelo condutor                                                 1.792279\n",
       "Mal súbito do condutor                                                           1.424632\n",
       "Animais na Pista                                                                 1.424632\n",
       "Chuva                                                                            1.332721\n",
       "Condutor deixou de manter distância do veículo da frente                         1.286765\n",
       "Transitar no acostamento                                                         1.286765\n",
       "Demais falhas mecânicas ou elétricas                                             1.148897\n",
       "Acesso irregular                                                                 1.011029\n",
       "Trafegar com motocicleta (ou similar) entre as faixas                            1.011029\n",
       "Desrespeitar a preferência no cruzamento                                         0.919118\n",
       "Conversão proibida                                                               0.919118\n",
       "Avarias e/ou desgaste excessivo no pneu                                          0.919118\n",
       "Iluminação deficiente                                                            0.689338\n",
       "Problema com o freio                                                             0.643382\n",
       "Área urbana sem a presença de local apropriado para a travessia de pedestres     0.597426\n",
       "Deficiência do Sistema de Iluminação/Sinalização                                 0.597426\n",
       "Pista esburacada                                                                 0.551471\n",
       "Pista Escorregadia                                                               0.505515\n",
       "Retorno proibido                                                                 0.505515\n",
       "Acumulo de água sobre o pavimento                                                0.413603\n",
       "Curva acentuada                                                                  0.367647\n",
       "Condutor usando celular                                                          0.367647\n",
       "Objeto estático sobre o leito carroçável                                         0.367647\n",
       "Afundamento ou ondulação no pavimento                                            0.321691\n",
       "Carga excessiva e/ou mal acondicionada                                           0.275735\n",
       "Estacionar ou parar em local proibido                                            0.275735\n",
       "Demais falhas na via                                                             0.275735\n",
       "Ingestão de álcool e/ou substâncias psicoativas pelo pedestre                    0.275735\n",
       "Ingestão de álcool ou de substâncias psicoativas pelo pedestre                   0.275735\n",
       "Falta de elemento de contenção que evite a saída do leito carroçável             0.229779\n",
       "Obras na pista                                                                   0.229779\n",
       "Ausência de sinalização                                                          0.229779\n",
       "Frear bruscamente                                                                0.137868\n",
       "Falta de acostamento                                                             0.137868\n",
       "Condutor desrespeitou a iluminação vermelha do semáforo                          0.091912\n",
       "Acumulo de óleo sobre o pavimento                                                0.091912\n",
       "Obstrução na via                                                                 0.091912\n",
       "Neblina                                                                          0.091912\n",
       "Acumulo de areia ou detritos sobre o pavimento                                   0.091912\n",
       "Acostamento em desnível                                                          0.091912\n",
       "Restrição de visibilidade em curvas verticais                                    0.091912\n",
       "Desvio temporário                                                                0.045956\n",
       "Declive acentuado                                                                0.045956\n",
       "Problema na suspensão                                                            0.045956\n",
       "Pista em desnível                                                                0.045956\n",
       "Sinalização mal posicionada                                                      0.045956\n",
       "Name: causa_acidente, dtype: float64"
      ]
     },
     "execution_count": 42,
     "metadata": {},
     "output_type": "execute_result"
    }
   ],
   "source": [
    "porcentagem_acidentes_amplos(semana_22)"
   ]
  },
  {
   "cell_type": "code",
   "execution_count": 43,
   "metadata": {},
   "outputs": [
    {
     "data": {
      "image/png": "[encoded data removed]",
      "text/plain": [
       "<Figure size 864x864 with 2 Axes>"
      ]
     },
     "metadata": {
      "needs_background": "light"
     },
     "output_type": "display_data"
    }
   ],
   "source": [
    "plotar_graficos_comparacao_horarios(porcentagem_acidentes_amplos(semana_21), porcentagem_acidentes_amplos(semana_22))"
   ]
  },
  {
   "cell_type": "markdown",
   "metadata": {},
   "source": [
    "#### Condições meteorológicas"
   ]
  },
  {
   "cell_type": "code",
   "execution_count": 44,
   "metadata": {},
   "outputs": [
    {
     "data": {
      "text/plain": [
       "Céu Claro           1572\n",
       "Nublado              428\n",
       "Chuva                245\n",
       "Sol                  113\n",
       "Garoa/Chuvisco        60\n",
       "Ignorado              47\n",
       "Nevoeiro/Neblina      31\n",
       "Vento                  5\n",
       "Name: condicao_metereologica, dtype: int64"
      ]
     },
     "execution_count": 44,
     "metadata": {},
     "output_type": "execute_result"
    }
   ],
   "source": [
    "condicao_metereologica(finais_semana_21)"
   ]
  },
  {
   "cell_type": "code",
   "execution_count": 45,
   "metadata": {},
   "outputs": [
    {
     "data": {
      "text/plain": [
       "Céu Claro           1613\n",
       "Nublado              394\n",
       "Chuva                222\n",
       "Sol                   94\n",
       "Garoa/Chuvisco        90\n",
       "Ignorado              47\n",
       "Nevoeiro/Neblina      24\n",
       "Vento                  4\n",
       "Name: condicao_metereologica, dtype: int64"
      ]
     },
     "execution_count": 45,
     "metadata": {},
     "output_type": "execute_result"
    }
   ],
   "source": [
    "condicao_metereologica(finais_semana_22)"
   ]
  },
  {
   "cell_type": "code",
   "execution_count": 46,
   "metadata": {},
   "outputs": [
    {
     "data": {
      "text/plain": [
       "Céu Claro           1311\n",
       "Nublado              376\n",
       "Chuva                233\n",
       "Sol                  122\n",
       "Garoa/Chuvisco        60\n",
       "Nevoeiro/Neblina      30\n",
       "Ignorado              27\n",
       "Vento                  6\n",
       "Name: condicao_metereologica, dtype: int64"
      ]
     },
     "execution_count": 46,
     "metadata": {},
     "output_type": "execute_result"
    }
   ],
   "source": [
    "condicao_metereologica(semana_21)"
   ]
  },
  {
   "cell_type": "code",
   "execution_count": 47,
   "metadata": {},
   "outputs": [
    {
     "data": {
      "text/plain": [
       "Céu Claro           1311\n",
       "Nublado              376\n",
       "Chuva                233\n",
       "Sol                  122\n",
       "Garoa/Chuvisco        60\n",
       "Nevoeiro/Neblina      30\n",
       "Ignorado              27\n",
       "Vento                  6\n",
       "Name: condicao_metereologica, dtype: int64"
      ]
     },
     "execution_count": 47,
     "metadata": {},
     "output_type": "execute_result"
    }
   ],
   "source": [
    "condicao_metereologica(semana_21)"
   ]
  },
  {
   "cell_type": "markdown",
   "metadata": {},
   "source": [
    "### Distribuição de Horarios dos acidentes"
   ]
  },
  {
   "cell_type": "markdown",
   "metadata": {},
   "source": [
    "Estes gráficos de barras utilizam uma escala de cores crescente, indo de tons mais claros para mais escuros à medida que a frequência de acidentes aumenta, o que facilita a visualização dos picos. Um aspecto interessante a ser explorado é a correlação entre o aumento dos acidentes em horários de pico e fatores externos, como a intensidade do tráfego, a fadiga dos motoristas no final do expediente e condições de iluminação ao anoitecer.\n",
    "\n",
    "- O pico de acidentes ocorre entre as 18h e 19h, que coincide com o horário de saída do trabalho e maior movimento nas vias.\n",
    "- O número de acidentes tende a ser menor durante as primeiras horas da madrugada (0h - 5h).\n",
    "- Há um leve aumento de acidentes por volta das 6h - 7h, provavelmente relacionado ao início do tráfego matinal "
   ]
  },
  {
   "cell_type": "markdown",
   "metadata": {},
   "source": [
    "## 2021 "
   ]
  },
  {
   "cell_type": "code",
   "execution_count": 52,
   "metadata": {},
   "outputs": [
    {
     "data": {
      "image/png": "[encoded data removed]",
      "text/plain": [
       "<Figure size 720x432 with 1 Axes>"
      ]
     },
     "metadata": {
      "needs_background": "light"
     },
     "output_type": "display_data"
    }
   ],
   "source": [
    "# Aplicar a função para adicionar a coluna de horas\n",
    "df = horarios_acidentes_grafico(dados_fatais_limpo_21)\n",
    "\n",
    "# Filtrar os acidentes entre 17h e 6h\n",
    "# df_filtrado = df[(df['horario'] >= 17) | (df['horario'] < 6)]\n",
    "\n",
    "# Gráfico de distribuição de horas\n",
    "plt.figure(figsize=(10,6))\n",
    "sns.countplot(data=df, x='horario', palette='Reds')\n",
    "plt.title('Distribuição de acidentes por horários 2021')\n",
    "plt.xlabel('Hora do acidente')\n",
    "plt.ylabel('Frequência')\n",
    "plt.xticks(range(24))  # Para garantir que todas as horas apareçam\n",
    "plt.show()"
   ]
  },
  {
   "cell_type": "markdown",
   "metadata": {},
   "source": [
    "## 2022"
   ]
  },
  {
   "cell_type": "code",
   "execution_count": 53,
   "metadata": {},
   "outputs": [
    {
     "data": {
      "image/png": "[encoded data removed]",
      "text/plain": [
       "<Figure size 720x432 with 1 Axes>"
      ]
     },
     "metadata": {
      "needs_background": "light"
     },
     "output_type": "display_data"
    }
   ],
   "source": [
    "# Aplicar a função para adicionar a coluna de horas\n",
    "df = horarios_acidentes_grafico(dados_fatais_limpo_22)\n",
    "\n",
    "# Filtrar os acidentes entre 17h e 6h\n",
    "# df_filtrado = df[(df['horario'] >= 17) | (df['horario'] < 6)]\n",
    "\n",
    "# Gráfico de distribuição de horas\n",
    "plt.figure(figsize=(10,6))\n",
    "sns.countplot(data=df, x='horario', palette='Reds')\n",
    "plt.title('Distribuição de acidentes por horários 2022')\n",
    "plt.xlabel('Hora do acidente')\n",
    "plt.ylabel('Frequência')\n",
    "plt.xticks(range(24))  # Para garantir que todas as horas apareçam\n",
    "plt.show()\n"
   ]
  },
  {
   "cell_type": "markdown",
   "metadata": {},
   "source": [
    "## Conclusão"
   ]
  },
  {
   "cell_type": "markdown",
   "metadata": {},
   "source": [
    "Esse tema foi escolhido com base na sua relevância social, e teve como cunho um processo descritivo da situação, e não propor soluções para o problema visualizado. Além disso, é possível notar que é necessário que novas medidas sejam adotadas, visto que de um ano para o outro, não houve alterações na maioria dos cenários estudados."
   ]
  }
 ],
 "metadata": {
  "kernelspec": {
   "display_name": "Python 3",
   "language": "python",
   "name": "python3"
  },
  "language_info": {
   "codemirror_mode": {
    "name": "ipython",
    "version": 3
   },
   "file_extension": ".py",
   "mimetype": "text/x-python",
   "name": "python",
   "nbconvert_exporter": "python",
   "pygments_lexer": "ipython3",
   "version": "3.10.5"
  }
 },
 "nbformat": 4,
 "nbformat_minor": 2
}
